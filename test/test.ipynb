{
 "cells": [
  {
   "cell_type": "code",
   "execution_count": 94,
   "id": "b64b3ac3",
   "metadata": {},
   "outputs": [],
   "source": [
    "import numpy as np\n",
    "import pandas as pd\n",
    "import math\n",
    "import seaborn as sns\n",
    "import matplotlib.pyplot as plt\n",
    "%matplotlib inline\n"
   ]
  },
  {
   "cell_type": "code",
   "execution_count": 2,
   "id": "7db5869f",
   "metadata": {},
   "outputs": [],
   "source": [
    "df1 = pd.read_csv('../data/trust_robot.csv')\n",
    "df2 = pd.read_csv('../data/trust_robot.csv')\n",
    "\n",
    "df = pd.concat([df1, df2], axis=0)"
   ]
  },
  {
   "cell_type": "code",
   "execution_count": 4,
   "id": "0c06823f",
   "metadata": {},
   "outputs": [
    {
     "data": {
      "text/plain": [
       "(2472, 7)"
      ]
     },
     "execution_count": 4,
     "metadata": {},
     "output_type": "execute_result"
    }
   ],
   "source": [
    "df.shape"
   ]
  },
  {
   "cell_type": "code",
   "execution_count": 9,
   "id": "eaa032ac",
   "metadata": {},
   "outputs": [],
   "source": [
    "df = df.drop_duplicates(['title'], keep='first')"
   ]
  },
  {
   "cell_type": "code",
   "execution_count": 16,
   "id": "fa0bca5a",
   "metadata": {},
   "outputs": [],
   "source": [
    "def remove_dup(df1_path, df2_path, dst_path, dst_name, column='title'):\n",
    "    '''\n",
    "    Concate two csv files and remove duplicate in the concatenated csv file.\n",
    "    Then, store the result in csv format.\n",
    "\n",
    "    Input:\n",
    "        df1_path: path of the first csv file \n",
    "        df2_path: path of the second csv file \n",
    "        dst_path: destination path for saving the concatednated csv file\n",
    "        dst_name: name for saving the concatednated csv file\n",
    "        column: column to compare the duplicates\n",
    "    Output:\n",
    "        result_df: the result dataframe\n",
    "    '''\n",
    "    df1 = pd.read_csv(df1_path)\n",
    "    df2 = pd.read_csv(df2_path)\n",
    "    df = pd.concat([df1, df2], axis=0)\n",
    "    result_df = df.drop_duplicates([column], keep='first')\n",
    "    result_df.to_csv(dst_path + dst_name)\n",
    "\n",
    "    return result_df\n",
    "\n",
    "def extract_text(df):\n",
    "    '''\n",
    "    extract text(abstract) in data\n",
    "\n",
    "    Input:\n",
    "        data_path: path of csv file to extract texts\n",
    "    Output:\n",
    "        None\n",
    "    '''\n",
    "    texts = df['abstract'].to_list()\n",
    "    return texts\n"
   ]
  },
  {
   "cell_type": "code",
   "execution_count": null,
   "id": "a157dde5",
   "metadata": {},
   "outputs": [],
   "source": [
    "def data_info(df, dir):\n",
    "    '''\n",
    "    전체 데이터의 개수와 데이터를 연도별로 분류하여 각 연도별 데이터의 개수를 dictionary로 리턴\n",
    "    또한, 연도별 논문의 수를 csv로 변환 및 막대 그래프로 나타낸 후 dir folder에 저장 (x축: 연도, y축: 연도별 데이터 개수)\n",
    "    \n",
    "    input\n",
    "      data: 전체 데이터\n",
    "\n",
    "    output\n",
    "      total_num: 전체 데이터 개수\n",
    "      data_year: 연도를 key로 가지며 해당 년도의 데이터를 value로 가짐\n",
    "    '''\n",
    "    csv_name = \"/DataYearCount.csv\"\n",
    "    fig_name = \"/DataYearCount.png\"\n",
    "    csv_path = dir + csv_name; fig_path = dir + fig_name\n",
    "\n",
    "    return total_num, data_year\n"
   ]
  },
  {
   "cell_type": "code",
   "execution_count": 17,
   "id": "138c0b95",
   "metadata": {},
   "outputs": [],
   "source": [
    "df = pd.read_csv('../data/trust_robot.csv')"
   ]
  },
  {
   "cell_type": "code",
   "execution_count": 22,
   "id": "5e7e80cd",
   "metadata": {},
   "outputs": [
    {
     "data": {
      "text/plain": [
       "0         2021 May 6\n",
       "1           2018 Dec\n",
       "2       2018 May-Jun\n",
       "3           2021 Mar\n",
       "4           2020 Dec\n",
       "            ...     \n",
       "1231        2022 May\n",
       "1232        2018 Mar\n",
       "1233        2022 Sep\n",
       "1234        2019 May\n",
       "1235     2015 Jun 25\n",
       "Name: date, Length: 1236, dtype: object"
      ]
     },
     "execution_count": 22,
     "metadata": {},
     "output_type": "execute_result"
    }
   ],
   "source": [
    "df['date']"
   ]
  },
  {
   "cell_type": "code",
   "execution_count": 141,
   "id": "8f73a841",
   "metadata": {},
   "outputs": [],
   "source": [
    "def info(df):\n",
    "    years = []\n",
    "    for i in range(len(df['date'])):\n",
    "        if type(df.loc[i, 'date']) == str:\n",
    "            years.append(df.loc[i, 'date'].split()[0])\n",
    "        elif math.isnan(df.loc[i, 'date']):\n",
    "            years.append('None')\n",
    "        else:\n",
    "            print(i, df.loc[i, 'date'])\n",
    "            \n",
    "    df['year'] = years\n",
    "    years_count = df['year'].value_counts().sort_index()\n",
    "    "
   ]
  },
  {
   "cell_type": "code",
   "execution_count": 147,
   "id": "1e028d26",
   "metadata": {},
   "outputs": [
    {
     "data": {
      "text/plain": [
       "<AxesSubplot:>"
      ]
     },
     "execution_count": 147,
     "metadata": {},
     "output_type": "execute_result"
    },
    {
     "data": {
      "image/png": "[encoded data removed]",
      "text/plain": [
       "<Figure size 640x480 with 1 Axes>"
      ]
     },
     "metadata": {},
     "output_type": "display_data"
    }
   ],
   "source": [
    "df = pd.read_csv('../data/trust_robot.csv')\n",
    "years = []\n",
    "for i in range(len(df['date'])):\n",
    "    if type(df.loc[i, 'date']) == str:\n",
    "        years.append(df.loc[i, 'date'].split()[0])\n",
    "    elif math.isnan(df.loc[i, 'date']):\n",
    "        years.append('None')\n",
    "    else:\n",
    "        print(i, df.loc[i, 'date'])\n",
    "\n",
    "df['year'] = years\n",
    "years_count = df['year'].value_counts().sort_index()\n",
    "\n",
    "sns_plot = sns.barplot(x=years_count.index, y=years_count.values)"
   ]
  },
  {
   "cell_type": "code",
   "execution_count": 126,
   "id": "8d3dda18",
   "metadata": {},
   "outputs": [],
   "source": []
  },
  {
   "cell_type": "code",
   "execution_count": 127,
   "id": "115ce44e",
   "metadata": {},
   "outputs": [
    {
     "data": {
      "text/plain": [
       "pandas.core.series.Series"
      ]
     },
     "execution_count": 127,
     "metadata": {},
     "output_type": "execute_result"
    }
   ],
   "source": [
    "type(years)"
   ]
  },
  {
   "cell_type": "code",
   "execution_count": 117,
   "id": "4c0ed200",
   "metadata": {},
   "outputs": [],
   "source": [
    "years_index = years.index\n",
    "years_values = years.values"
   ]
  },
  {
   "cell_type": "code",
   "execution_count": 118,
   "id": "6c78678f",
   "metadata": {},
   "outputs": [
    {
     "data": {
      "text/plain": [
       "Index(['2013', '2014', '2015', '2016', '2017', '2018', '2019', '2020', '2021',\n",
       "       '2022', '2023', 'None'],\n",
       "      dtype='object')"
      ]
     },
     "execution_count": 118,
     "metadata": {},
     "output_type": "execute_result"
    }
   ],
   "source": [
    "years_index"
   ]
  },
  {
   "cell_type": "code",
   "execution_count": 103,
   "id": "3d89a019",
   "metadata": {},
   "outputs": [
    {
     "data": {
      "image/png": "[encoded data removed]",
      "text/plain": [
       "<Figure size 640x480 with 1 Axes>"
      ]
     },
     "metadata": {},
     "output_type": "display_data"
    }
   ],
   "source": [
    "sns_plot = sns.barplot(x=years_index, y=years_values)\n",
    "fig = sns_plot.get_figure()"
   ]
  },
  {
   "cell_type": "code",
   "execution_count": 104,
   "id": "b13709df",
   "metadata": {},
   "outputs": [],
   "source": [
    "fig.savefig('test.png')"
   ]
  },
  {
   "cell_type": "code",
   "execution_count": 128,
   "id": "49c863e8",
   "metadata": {},
   "outputs": [
    {
     "data": {
      "text/plain": [
       "2013     27\n",
       "2014     42\n",
       "2015     54\n",
       "2016     78\n",
       "2017     97\n",
       "2018    120\n",
       "2019    142\n",
       "2020    154\n",
       "2021    232\n",
       "2022    281\n",
       "2023      2\n",
       "None      7\n",
       "Name: year, dtype: int64"
      ]
     },
     "execution_count": 128,
     "metadata": {},
     "output_type": "execute_result"
    }
   ],
   "source": [
    "years"
   ]
  },
  {
   "cell_type": "code",
   "execution_count": 136,
   "id": "6d3437bf",
   "metadata": {},
   "outputs": [],
   "source": [
    "years.to_csv('years.csv', header=False)"
   ]
  },
  {
   "cell_type": "code",
   "execution_count": 139,
   "id": "dd326f15",
   "metadata": {},
   "outputs": [],
   "source": [
    "df = pd.read_csv('years.csv')"
   ]
  },
  {
   "cell_type": "code",
   "execution_count": 140,
   "id": "dd6e820c",
   "metadata": {},
   "outputs": [
    {
     "data": {
      "text/html": [
       "<div>\n",
       "<style scoped>\n",
       "    .dataframe tbody tr th:only-of-type {\n",
       "        vertical-align: middle;\n",
       "    }\n",
       "\n",
       "    .dataframe tbody tr th {\n",
       "        vertical-align: top;\n",
       "    }\n",
       "\n",
       "    .dataframe thead th {\n",
       "        text-align: right;\n",
       "    }\n",
       "</style>\n",
       "<table border=\"1\" class=\"dataframe\">\n",
       "  <thead>\n",
       "    <tr style=\"text-align: right;\">\n",
       "      <th></th>\n",
       "      <th>2013</th>\n",
       "      <th>27</th>\n",
       "    </tr>\n",
       "  </thead>\n",
       "  <tbody>\n",
       "    <tr>\n",
       "      <th>0</th>\n",
       "      <td>2014</td>\n",
       "      <td>42</td>\n",
       "    </tr>\n",
       "    <tr>\n",
       "      <th>1</th>\n",
       "      <td>2015</td>\n",
       "      <td>54</td>\n",
       "    </tr>\n",
       "    <tr>\n",
       "      <th>2</th>\n",
       "      <td>2016</td>\n",
       "      <td>78</td>\n",
       "    </tr>\n",
       "    <tr>\n",
       "      <th>3</th>\n",
       "      <td>2017</td>\n",
       "      <td>97</td>\n",
       "    </tr>\n",
       "    <tr>\n",
       "      <th>4</th>\n",
       "      <td>2018</td>\n",
       "      <td>120</td>\n",
       "    </tr>\n",
       "    <tr>\n",
       "      <th>5</th>\n",
       "      <td>2019</td>\n",
       "      <td>142</td>\n",
       "    </tr>\n",
       "    <tr>\n",
       "      <th>6</th>\n",
       "      <td>2020</td>\n",
       "      <td>154</td>\n",
       "    </tr>\n",
       "    <tr>\n",
       "      <th>7</th>\n",
       "      <td>2021</td>\n",
       "      <td>232</td>\n",
       "    </tr>\n",
       "    <tr>\n",
       "      <th>8</th>\n",
       "      <td>2022</td>\n",
       "      <td>281</td>\n",
       "    </tr>\n",
       "    <tr>\n",
       "      <th>9</th>\n",
       "      <td>2023</td>\n",
       "      <td>2</td>\n",
       "    </tr>\n",
       "    <tr>\n",
       "      <th>10</th>\n",
       "      <td>None</td>\n",
       "      <td>7</td>\n",
       "    </tr>\n",
       "  </tbody>\n",
       "</table>\n",
       "</div>"
      ],
      "text/plain": [
       "    2013   27\n",
       "0   2014   42\n",
       "1   2015   54\n",
       "2   2016   78\n",
       "3   2017   97\n",
       "4   2018  120\n",
       "5   2019  142\n",
       "6   2020  154\n",
       "7   2021  232\n",
       "8   2022  281\n",
       "9   2023    2\n",
       "10  None    7"
      ]
     },
     "execution_count": 140,
     "metadata": {},
     "output_type": "execute_result"
    }
   ],
   "source": [
    "\n",
    "df"
   ]
  },
  {
   "cell_type": "code",
   "execution_count": 2,
   "id": "5d5f69b4",
   "metadata": {},
   "outputs": [
    {
     "name": "stderr",
     "output_type": "stream",
     "text": [
      "/Users/shimgahyeon/opt/anaconda3/lib/python3.8/site-packages/past/builtins/misc.py:45: DeprecationWarning: the imp module is deprecated in favour of importlib; see the module's documentation for alternative uses\n",
      "  from imp import reload\n"
     ]
    }
   ],
   "source": [
    "import pandas as pd\n",
    "import matplotlib.pyplot as plt\n",
    "%matplotlib inline\n",
    "\n",
    "from nltk.corpus import stopwords\n",
    "from nltk.tokenize import RegexpTokenizer\n",
    "from nltk.stem.porter import PorterStemmer\n",
    "from sklearn.feature_extraction.text import CountVectorizer\n",
    "from sklearn.feature_extraction.text import TfidfVectorizer\n",
    "from gensim.corpora.dictionary import Dictionary\n",
    "from gensim.models import LdaModel\n",
    "from gensim.models import CoherenceModel\n",
    "import pyLDAvis\n",
    "import pyLDAvis.gensim_models as gensimvis\n",
    "pyLDAvis.enable_notebook()"
   ]
  },
  {
   "cell_type": "code",
   "execution_count": 15,
   "id": "8e4e1d26",
   "metadata": {},
   "outputs": [
    {
     "name": "stderr",
     "output_type": "stream",
     "text": [
      "<>:6: DeprecationWarning: invalid escape sequence \\w\n",
      "<>:6: DeprecationWarning: invalid escape sequence \\w\n",
      "/var/folders/f8/6p0t23zx0p9c90vcc29hyy1h0000gn/T/ipykernel_78934/810353690.py:6: DeprecationWarning: invalid escape sequence \\w\n",
      "  RegTok = RegexpTokenizer(\"[\\w']{3,}\")\n"
     ]
    }
   ],
   "source": [
    "def tokenizer(text):\n",
    "    '''\n",
    "    apply tokenizer\n",
    "    '''\n",
    "    cachedStopWords = stopwords.words(\"english\")\n",
    "    RegTok = RegexpTokenizer(\"[\\w']{3,}\")\n",
    "    english_stops = set(stopwords.words('english'))\n",
    "    tokens = RegTok.tokenize(text.lower())\n",
    "    # stopwords 제외\n",
    "    words = [word for word in tokens if (word not in english_stops) and len(word) > 2]\n",
    "    \n",
    "    stemmer = PorterStemmer()\n",
    "    word_token = [stemmer.stem(i) for i in words]\n",
    "    \n",
    "    return words, word_token"
   ]
  },
  {
   "cell_type": "code",
   "execution_count": 17,
   "id": "0a44d69b",
   "metadata": {},
   "outputs": [],
   "source": [
    "papers = ['He has refused his Assent to Laws, the most wholesome and necessary for the public good.',\n",
    "        'He has refused his Assent to Laws, the most wholesome and necessary for the public good.']\n",
    "\n",
    "texts = []\n",
    "orig_words = []\n",
    "for paper in papers:\n",
    "    words, word_token = tokenizer(paper)\n",
    "    orig_words.append(words)\n",
    "    texts.append(word_token)"
   ]
  },
  {
   "cell_type": "code",
   "execution_count": 18,
   "id": "69814f57",
   "metadata": {},
   "outputs": [
    {
     "data": {
      "text/plain": [
       "[['refus', 'assent', 'law', 'wholesom', 'necessari', 'public', 'good'],\n",
       " ['refus', 'assent', 'law', 'wholesom', 'necessari', 'public', 'good']]"
      ]
     },
     "execution_count": 18,
     "metadata": {},
     "output_type": "execute_result"
    }
   ],
   "source": [
    "texts"
   ]
  },
  {
   "cell_type": "code",
   "execution_count": 25,
   "id": "179db51b",
   "metadata": {},
   "outputs": [],
   "source": [
    "import itertools\n",
    "texts2 = list(itertools.chain(*texts))\n",
    "orig_words2 = list(itertools.chain(*orig_words))"
   ]
  },
  {
   "cell_type": "code",
   "execution_count": 24,
   "id": "ddce85d2",
   "metadata": {},
   "outputs": [
    {
     "data": {
      "text/plain": [
       "['refus',\n",
       " 'assent',\n",
       " 'law',\n",
       " 'wholesom',\n",
       " 'necessari',\n",
       " 'public',\n",
       " 'good',\n",
       " 'refus',\n",
       " 'assent',\n",
       " 'law',\n",
       " 'wholesom',\n",
       " 'necessari',\n",
       " 'public',\n",
       " 'good']"
      ]
     },
     "execution_count": 24,
     "metadata": {},
     "output_type": "execute_result"
    }
   ],
   "source": [
    "texts2"
   ]
  },
  {
   "cell_type": "code",
   "execution_count": 19,
   "id": "0eeb0085",
   "metadata": {},
   "outputs": [
    {
     "data": {
      "text/plain": [
       "[['refused', 'assent', 'laws', 'wholesome', 'necessary', 'public', 'good'],\n",
       " ['refused', 'assent', 'laws', 'wholesome', 'necessary', 'public', 'good']]"
      ]
     },
     "execution_count": 19,
     "metadata": {},
     "output_type": "execute_result"
    }
   ],
   "source": [
    "orig_words"
   ]
  },
  {
   "cell_type": "code",
   "execution_count": 8,
   "id": "d3638ffe",
   "metadata": {},
   "outputs": [],
   "source": [
    "words.append('refusing')"
   ]
  },
  {
   "cell_type": "code",
   "execution_count": 9,
   "id": "dfd8ec5a",
   "metadata": {},
   "outputs": [],
   "source": [
    "word_token.append('refus')"
   ]
  },
  {
   "cell_type": "code",
   "execution_count": 35,
   "id": "6e51120c",
   "metadata": {},
   "outputs": [],
   "source": [
    "df = pd.DataFrame()\n",
    "df['afterStem'] = texts2\n",
    "df['beforeStem'] = orig_words2\n",
    "df = df.drop_duplicates(['afterStem'])\n",
    "df = df.sort_values(by='afterStem', axis=0)"
   ]
  },
  {
   "cell_type": "code",
   "execution_count": 34,
   "id": "9ffe1203",
   "metadata": {},
   "outputs": [
    {
     "data": {
      "text/html": [
       "<div>\n",
       "<style scoped>\n",
       "    .dataframe tbody tr th:only-of-type {\n",
       "        vertical-align: middle;\n",
       "    }\n",
       "\n",
       "    .dataframe tbody tr th {\n",
       "        vertical-align: top;\n",
       "    }\n",
       "\n",
       "    .dataframe thead th {\n",
       "        text-align: right;\n",
       "    }\n",
       "</style>\n",
       "<table border=\"1\" class=\"dataframe\">\n",
       "  <thead>\n",
       "    <tr style=\"text-align: right;\">\n",
       "      <th></th>\n",
       "      <th>afterStem</th>\n",
       "      <th>beforeStem</th>\n",
       "    </tr>\n",
       "  </thead>\n",
       "  <tbody>\n",
       "    <tr>\n",
       "      <th>0</th>\n",
       "      <td>refus</td>\n",
       "      <td>refused</td>\n",
       "    </tr>\n",
       "    <tr>\n",
       "      <th>1</th>\n",
       "      <td>assent</td>\n",
       "      <td>assent</td>\n",
       "    </tr>\n",
       "    <tr>\n",
       "      <th>2</th>\n",
       "      <td>law</td>\n",
       "      <td>laws</td>\n",
       "    </tr>\n",
       "    <tr>\n",
       "      <th>3</th>\n",
       "      <td>wholesom</td>\n",
       "      <td>wholesome</td>\n",
       "    </tr>\n",
       "    <tr>\n",
       "      <th>4</th>\n",
       "      <td>necessari</td>\n",
       "      <td>necessary</td>\n",
       "    </tr>\n",
       "    <tr>\n",
       "      <th>5</th>\n",
       "      <td>public</td>\n",
       "      <td>public</td>\n",
       "    </tr>\n",
       "    <tr>\n",
       "      <th>6</th>\n",
       "      <td>good</td>\n",
       "      <td>good</td>\n",
       "    </tr>\n",
       "  </tbody>\n",
       "</table>\n",
       "</div>"
      ],
      "text/plain": [
       "   afterStem beforeStem\n",
       "0      refus    refused\n",
       "1     assent     assent\n",
       "2        law       laws\n",
       "3   wholesom  wholesome\n",
       "4  necessari  necessary\n",
       "5     public     public\n",
       "6       good       good"
      ]
     },
     "execution_count": 34,
     "metadata": {},
     "output_type": "execute_result"
    }
   ],
   "source": [
    "df"
   ]
  },
  {
   "cell_type": "code",
   "execution_count": null,
   "id": "52cb42e6",
   "id": "56aa1447",
   "metadata": {},
   "outputs": [],
   "source": [
    "df.duplicated(['beforeStem'], keep='first')"
   ]
  }
 ],
 "metadata": {
  "kernelspec": {
   "display_name": "Python 3 (ipykernel)",
   "language": "python",
   "name": "python3"
  },
  "language_info": {
   "codemirror_mode": {
    "name": "ipython",
    "version": 3
   },
   "file_extension": ".py",
   "mimetype": "text/x-python",
   "name": "python",
   "nbconvert_exporter": "python",
   "pygments_lexer": "ipython3",
   "version": "3.8.8"
  }
 },
 "nbformat": 4,
 "nbformat_minor": 5
}
