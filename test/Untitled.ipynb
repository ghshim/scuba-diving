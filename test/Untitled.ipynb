{
 "cells": [
  {
   "cell_type": "code",
   "execution_count": 6,
   "id": "7ca8713e",
   "metadata": {},
   "outputs": [],
   "source": [
    "import sys\n",
    "import os\n",
    "import argparse\n",
    "import pandas as pd\n",
    "import seaborn as sns\n",
    "import csv\n",
    "from sklearn.feature_extraction.text import TfidfVectorizer\n",
    "sys.path.insert(0, '../')\n",
    "from text_preprocessing import text_preprocessing\n",
    "from text_preprocessing import extract_texts\n",
    "\n",
    "def frequency_analysis(word_token, n):\n",
    "    #상위 30개까지만 확인\n",
    "    df = pd.DataFrame()\n",
    "    frequency_series = pd.Series(word_token).value_counts().head(n)\n",
    "    print(frequency_series)\n",
    "    return frequency_series\n",
    "\n",
    "\n",
    "def tfidf_analysis(dataset):\n",
    "    tfidf = TfidfVectorizer(min_df=3)\n",
    "    tfidf.fit(dataset)\n",
    "    feature_names = tfidf.get_feature_names()\n",
    "    tfidf_matrix = tfidf.transform([dataset[70]]).todense()\n",
    "    feature_index = tfidf_matrix[0, :].nonzero()[1]\n",
    "    tfidf_scores = zip([feature_names[i] for i in feature_index], [tfidf_matrix[0, x] for x in feature_index])\n",
    "\n",
    "    return dict(tfidf_scores)\n",
    "\n",
    "\n",
    "def show_figure_forFrequency(obj):\n",
    "    sns.set(rc={'figure.figsize': (30, 15)})\n",
    "    splot = sns.barplot(y=obj.index, x=obj.values, orient='h', color='tab:blue')\n",
    "    sfig = splot.get_figure()\n",
    "    sfig.savefig('../figure/topic3/topic3_users*_Frequency.png')\n",
    "\n",
    "\n",
    "def show_figure_forTfidf(n, obj):\n",
    "    sns.set(rc={'figure.figsize': (30, 15)})\n",
    "    splot = sns.barplot(y=obj.index, x=obj.values, orient='h')\n",
    "    sfig = splot.get_figure()\n",
    "\n",
    "    sfig.savefig('../figure/scuba_diving_safety_tfidf.png')\n"
   ]
  },
  {
   "cell_type": "code",
   "execution_count": 15,
   "id": "2983fae1",
   "metadata": {},
   "outputs": [],
   "source": [
    "def extract_texts(data_path):\n",
    "    # csv file -> dataset 변환\n",
    "    file = open(data_path, \"r\", encoding=\"utf-8\")\n",
    "    rdr = csv.reader(file)\n",
    "    dataset = []\n",
    "    for row in rdr:\n",
    "        dataset.append(row[3])\n",
    "    # csv header(\"abstract\") 0번째 요소 list에서 삭제\n",
    "    dataset.pop(0)\n",
    "    file.close()\n",
    "    return dataset"
   ]
  },
  {
   "cell_type": "code",
   "execution_count": 16,
   "id": "49f9bc12",
   "metadata": {},
   "outputs": [],
   "source": [
    "data_path = '../data/topic2/trust_robot.csv'\n",
    "data = extract_texts(data_path)"
   ]
  },
  {
   "cell_type": "code",
   "execution_count": 17,
   "id": "c2e2a88b",
   "metadata": {},
   "outputs": [
    {
     "data": {
      "text/plain": [
       "[\"Understanding human trust in machine partners has become imperative due to the widespread use of intelligent machines in a variety of applications and contexts. The aim of this paper is to investigate whether human-beings trust a social robot-i.e. a human-like robot that embodies emotional states, empathy, and non-verbal communication-differently than other types of agents. To do so, we adapt the well-known economic trust-game proposed by Charness and Dufwenberg (2006) to assess whether receiving a promise from a robot increases human-trust in it. We find that receiving a promise from the robot increases the trust of the human in it, but only for individuals who perceive the robot very similar to a human-being. Importantly, we observe a similar pattern in choices when we replace the humanoid counterpart with a real human but not when it is replaced by a computer-box. Additionally, we investigate participants' psychophysiological reaction in terms of cardiovascular and electrodermal activity. Our results highlight an increased psychophysiological arousal when the game is played with the social robot compared to the computer-box. Taken all together, these results strongly support the development of technologies enhancing the humanity of robots.\",\n",
       " \"Objective:\\n        \\n      \\n      The authors investigate whether nonhuman agents, such as computers or robots, produce a social conformity effect in human operators and examine to what extent potential conformist behavior varies as a function of the human-likeness of the group members and the type of task that has to be performed.\\n    \\n\\n\\n          Background:\\n        \\n      \\n      People conform due to normative and/or informational motivations in human-human interactions, and conformist behavior is modulated by factors related to the individual as well as factors associated with the group, context, and culture. Studies have yet to examine whether nonhuman agents also induce social conformity.\\n    \\n\\n\\n          Method:\\n        \\n      \\n      Participants were assigned to a computer, robot, or human group and completed both a social and analytical task with the respective group.\\n    \\n\\n\\n          Results:\\n        \\n      \\n      Conformity measures (percentage of times participants answered in line with agents on critical trials) subjected to a 3 × 2 mixed ANOVA showed significantly higher conformity rates for the analytical versus the social task as well as a modulation of conformity depending of the perceived agent-task fit.\\n    \\n\\n\\n          Conclusion:\\n        \\n      \\n      Findings indicate that nonhuman agents were able to exert a social conformity effect, which was modulated further by the perceived match between agent and task type. Participants conformed to comparable degrees with agents during the analytical task but conformed significantly more strongly on the social task as the group's human-likeness increased.\\n    \\n\\n\\n          Application:\\n        \\n      \\n      Results suggest that users may react differently to the influence of nonhuman agent groups with the potential for variability in conformity depending on the domain of the task.\",\n",
       " \"Objective:\\n        \\n      \\n      To perform the first validation of a full procedural virtual reality robotic training module and analysis of novice surgeon's learning curves.\\n    \\n\\n\\n          Design:\\n        \\n      \\n      Participants completed the bladder neck dissection task and urethrovesical anastomosis task (UVA) as part of the prostatectomy module. Surgeons completed feedback questionnaires assessing the realism, content, acceptability and feasibility of the module. Novice surgeons completed a 5.5-hour training programme using both tasks.\\n    \\n\\n\\n          Setting:\\n        \\n      \\n      King's College London, London.\\n    \\n\\n\\n          Participants:\\n        \\n      \\n      13 novice, 24 intermediate and 8 expert surgeons completed the validation study.\\n    \\n\\n\\n          Results:\\n        \\n      \\n      Realism was scored highly for BDN (mean 3.4/5) and UVA (3.74/5), as was importance of BDN (4.32/5) and UVA (4.6/5) for training. It was rated as a feasible (3.95/5) and acceptable (4/5) tool for training. Experts performed significantly better than novice group in 6 metrics in the UVA including time (p = 0.0005), distance by camera (p = 0.0010) and instrument collisions (p = 0.0033), as well as task-specific metrics such as number of unnecessary needle piercing points (p = 0.0463). In novice surgeons, a significant improvement in performance after training was seen in many metrics for both tasks. For bladder neck dissection task, this included time (p < 0.0001), instrument collisions (p = 0.0013) and total time instruments are out of view (p = 0.0251). For UVA, this included time (p = 0.0135), instrument collisions (p = 0.0066) and task-specific metrics such as injury to the urethra (p = 0.0032) and bladder (p = 0.0189).\\n    \\n\\n\\n          Conclusions:\\n        \\n      \\n      Surgeons found this full procedural VR training module to be a realistic, feasible and acceptable component for a robotic surgical training programme. Construct validity was proven between expert and novice surgeons. Novice surgeons have shown a significant learning curve over 5.5 hours of training, suggesting this module could be used in a surgical curriculum for acquisition of technical skills. Further implementation of this module into the curriculum and continued analysis would be beneficial to gauge how it can be fully utilised.\",\n",
       " 'Robotic procedures in the anterior mediastinum can be challenging in the existence of pectus excavatum deformity due to the limited intrathoracic working space caused by sternal depression. We propose that the temporary application of a vacuum bell device during the procedure can correct the deformity and thus, facilitate robotic approach similarly to the standard procedure.',\n",
       " \"Purpose:\\n        \\n      \\n      Robotic endovascular technology may offer advantages over conventional manual catheter techniques. Our aim was to compare the endovascular catheter path-length (PL) for robotic versus manual contralateral gate cannulation during endovascular aneurysm repair (EVAR), using video motion analysis (VMA).\\n    \\n\\n\\n          Methods:\\n        \\n      \\n      This was a multicentre retrospective cohort study with fluoroscopic video recordings of 24 EVAR cases (14 robotic, 10 manual) performed by experienced operators (> 50 procedures), obtained from four leading European centres. Groups were comparable with no statistically significant differences in aneurysm size (p = 0.47) or vessel tortuosity (p = 0.68). Two trained assessors used VMA to calculate the catheter PL during contralateral gate cannulation for robotic versus manual approaches.\\n    \\n\\n\\n          Results:\\n        \\n      \\n      There was a high degree of inter-observer reliability (Cronbach's α > 0.99) for VMA. Median robotic PL was 35.7 cm [interquartile range, IQR (30.8-51.0)] versus 74.1 cm [IQR (44.3-170.4)] for manual cannulation, p = 0.019. Robotic cases had a median cannulation time of 5.33 min [IQR (4.58-6.49)] versus 1.24 min [IQR (1.13-1.35)] in manual cases (p = 0.0083). Generated efficiency ratios (PL/aorto-iliac centrelines) was 1.6 (1.2-2.1) in robotic cases versus 2.6 (1.7-7.0) in manual, p = 0.031.\\n    \\n\\n\\n          Conclusion:\\n        \\n      \\n      Robot-assisted contralateral gate cannulation in EVAR leads to decreased navigation path lengths and increased economy of movement compared with manual catheter techniques. The benefit could be maximised by prioritising robotic catheter shaping over habituated reliance on guidewire manipulation. Robotic technology has the potential to reduce the endovascular footprint during manipulations even for experienced operators with the added advantage of zero radiation exposure.\",\n",
       " \"Objective:\\n        \\n      \\n      To evaluate the utility of a new robot-assisted surgical system (the Versius Surgical System, CMR Surgical, Cambridge, UK) for use in minimal access general and colorectal surgery, in a preclinical setting. Robot-assisted laparoscopy has been developed to overcome some of the important limitations of conventional laparoscopy. The new system is designed to assist surgeons in performing minimal access surgery and overcome some of the challenges associated with currently available surgical robots.\\n    \\n\\n\\n          Methods:\\n        \\n      \\n      Cadaveric sessions were conducted to evaluate the ability of the system to provide adequate surgical access and reach required to complete a range of general and colorectal procedures. Port and bedside unit positions were recorded, and surgical access and reach were evaluated by the lead surgeon using a visual analogue scale. A live animal (porcine) model was used to assess the surgical device's safety in performing cholecystectomy or small bowel enterotomy.\\n    \\n\\n\\n          Results:\\n        \\n      \\n      Nine types of procedure were performed in cadavers by nine lead surgeons; 35/38 procedures were completed successfully. The positioning of ports and bedside units reflected the lead surgeons' preferred laparoscopic set-up and enabled good surgical access and reach. Cholecystectomy (n = 6) and small bowel enterotomy (n = 5) procedures performed in pigs were all completed successfully by two surgeons. There were no device-related intra-operative complications.\\n    \\n\\n\\n          Conclusions:\\n        \\n      \\n      This preclinical study of a new robot-assisted surgical system for minimal access general and colorectal surgery demonstrated the safety and effectiveness of the system in cadaver and porcine models. Further studies are required to assess its clinical utility.\",\n",
       " 'Background:\\n        \\n      \\n      Whether surgeons perform better utilising a robot-assisted laparoscopic technique compared with an open approach during prostate cancer surgery is debatable.\\n    \\n\\n\\n          Objective:\\n        \\n      \\n      To report erectile function and early oncologic outcomes for both surgical modalities, stratified by prostate cancer risk grouping.\\n    \\n\\n\\n          Design, setting, and participants:\\n        \\n      \\n      In a prospective nonrandomised trial, we recruited 2545 men with prostate cancer from seven open (n=753) and seven robot-assisted (n=1792) Swedish centres (2008-2011).\\n    \\n\\n\\n          Outcome measurements and statistical analysis:\\n        \\n      \\n      Clinometrically-validated questionnaire-based patient-reported erectile function was collected before, 3 mo, 12 mo, and 24 mo after surgery. Surgeon-reported degree of neurovascular-bundle preservation, pathologist-reported positive surgical margin (PSM) rates, and 2-yr prostate-specific antigen-relapse rates were measured.\\n    \\n\\n\\n          Results and limitations:\\n        \\n      \\n      Among 1702 preoperatively potent men, we found enhanced erectile function recovery for low/intermediate-risk patients in the robot-assisted group at 3 mo. For patients with high-risk tumours, point estimates for erectile function recovery at 24 mo favoured the open surgery group. The degree of neurovascular bundle preservation and erectile function recovery were greater correlated for robot-assisted surgery. In pT2 tumours, 10% versus 17% PSM rates were observed for open and robot-assisted surgery, respectively; corresponding rates for pT3 tumours were 48% and 33%. These differences were associated with biochemical recurrence in pT3 but not pT2 disease. The study is limited by its nonrandomised design and relatively short follow-up.\\n    \\n\\n\\n          Conclusions:\\n        \\n      \\n      Earlier recovery of erectile function in the robot-assisted surgery group in lower-risk patients is counterbalanced by lower PSM rates for open surgeons in organ-confined disease; thus, both open and robotic surgeons need to consider this trade-off when determining the plane of surgical dissection. Robot-assisted surgery also facilitates easier identification of nerve preservation planes during radical prostatectomy as well as wider dissection for pT3 cases.\\n    \\n\\n\\n          Patient summary:\\n        \\n      \\n      For prostate cancer surgery, an open operation reduces erection problems in high-risk cancers but has higher relapse rates than robotic surgery. Relapse rates appear similar in low/intermediate-risk cancers and the robot appears better at preserving erections in these cases.',\n",
       " 'Context:\\n        \\n      \\n      The key in the evolution towards minimally invasive surgery is the availability of appropriate equipment, especially when procedures involve children. While robotic procedures in adults continue to struggle to prove measurable advantages compared with open or classical laparoscopic ones, the use of the robotic platform (RP) in pediatric urology is steadily increasing.\\n    \\n\\n\\n          Objective:\\n        \\n      \\n      To review the contemporary literature regarding the use of robotic-assisted (RA) urologic interventions in children.\\n    \\n\\n\\n          Evidence acquisition:\\n        \\n      \\n      A nonsystematic review of the literature was conducted through PubMed database between 2002 and 2017, with an emphasis on large series.\\n    \\n\\n\\n          Evidence synthesis:\\n        \\n      \\n      A few major challenges must be considered before using the RP in children: anesthesia, placement of trocars, and technical difficulties related to small space. To date, only the robot-assisted pyeloplasty is recognized as safe and efficient with an equivalent outcome compared to the open or classical laparoscopy; this was supported by large multicentric studies, which are not available for most of the other procedures.\\n    \\n\\n\\n          Conclusions:\\n        \\n      \\n      RA procedure in children has been proven safe and effective. Still in its infancy, further data over time is likely to prove different RA procedures to be equivalent to open or laparoscopy in terms of outcome.\\n    \\n\\n\\n          Patient summary:\\n        \\n      \\n      The advent of the robotic platform means an evolution towards minimizing surgical trauma for the child. Currently, the available platforms designed for adults are adapted to work in children. However, it might be expected in the future that new technologies will improve the technical possibilities to improve the robotic platform for minimally invasive surgery in children. To date, a few applications are considered safe and efficient (in experienced hands), considering that the team has to be aware of some challenges to overcome regarding anesthesia, material, and technique adaptation to the patient. The most accepted robotic applications in children comprises of the robot-assisted pyeloplasty, hemi-nephrectomy, and ureteric reimplantation.',\n",
       " 'Background:\\n        \\n      \\n      Patients with high-risk prostate cancer (PC) can experience biochemical relapse (BCR), despite surgery, and develop noncurative disease. The present study aimed to reduce the risk of BCR with a personalized dendritic cell (DC) vaccine, given as adjuvant therapy, after robot-assisted laparoscopic prostatectomy (RALP).\\n    \\n\\n\\n          Methods:\\n        \\n      \\n      Twelve weeks after RALP, 20 patients with high-risk PC and undetectable PSA received DC vaccinations for 3 years or until BCR. The primary endpoint was the time to BCR. The immune response was assessed 7 weeks after surgery (baseline) and at one-time point during the vaccination period.\\n    \\n\\n\\n          Results:\\n        \\n      \\n      Among 20 patients, 11 were BCR-free over a median of 96 months (range: 84-99). The median time from the end of vaccinations to the last follow-up was 57 months (range: 45-60). Nine patients developed BCR, either during (n = 4) or after (n = 5) the vaccination period. Among five patients diagnosed with intraductal carcinoma, three experienced early BCR during the vaccination period. All patients that developed BCR remained in stable disease within a median of 99 months (range: 74-99). The baseline immune response was significantly associated with the immune response during the vaccination period (p = 0.015). For patients diagnosed with extraprostatic extension (EPE), time to BCR was longer in vaccine responders than in non-responders (p = 0.09). Among 12 patients with the International Society of Urological Pathology (ISUP) grade 5 PC, five achieved remission after 84 months, and all mounted immune responses.\\n    \\n\\n\\n          Conclusion:\\n        \\n      \\n      Patients diagnosed with EPE and ISUP grade 5 PC were at particularly high risk of developing postsurgical BCR. In this subgroup, the vaccine response was related to a reduced BCR incidence. The vaccine was safe, without side effects. This adjuvant first-in-man Phase I/II DC vaccine study showed promising results. DC vaccines after curative surgery should be investigated further in a larger cohort of patients with high-risk PC.',\n",
       " \"Introduction:\\n        \\n      \\n      The Iwate Score (IS) have not been well-validated for specific procedures, especially for right posterior sectionectomy (RPS). In this study, the utility of the IS was determined for laparoscopic (L)RPS and the effect of tumor location on surgical outcomes was investigated.\\n    \\n\\n\\n          Methods:\\n        \\n      \\n      Post-hoc analysis of 647 L-RPS performed in 40 international centers of which 596L-RPS cases met the inclusion criteria. Baseline characteristics and perioperative outcomes of patients stratified based on the Iwate score were compared to determine whether a correlation with surgical difficulty existed. A 1:1 Mahalanobis distance matching was utilized to investigate the effect of tumor location on L-RPS outcomes.\\n    \\n\\n\\n          Results:\\n        \\n      \\n      The patients were stratified into 3 levels of difficulty (31 intermediate, 143 advanced, and 422 expert) based on the IS. When using a stepwise increase of the IS excluding the tumor location score, only Pringle's maneuver was more frequently used in the higher surgical difficulty level (35.5%, 54.6%, and 65.2%, intermediate, advanced, and expert levels, respectively, Z = 3.34, p = 0.001). Other perioperative results were not associated with a statistical gradation toward higher difficulty level. 80 of 85 patients with a segment VI lesion and 511 patients with a segment VII lesion were matched 1:1. There were no significant differences in the perioperative outcomes of the two groups including open conversion, operating time, blood loss, intraoperative blood transfusion, postoperative stay, major morbidity, and mortality.\\n    \\n\\n\\n          Conclusion:\\n        \\n      \\n      Among patients undergoing L-RPS, the IS did not significantly correlate with most outcome measures associated with intraoperative difficulty and postoperative outcomes. Similarly, tumor location had no effect on L-RPS outcomes.\"]"
      ]
     },
     "execution_count": 17,
     "metadata": {},
     "output_type": "execute_result"
    }
   ],
   "source": [
    "data[:10]"
   ]
  },
  {
   "cell_type": "code",
   "execution_count": 21,
   "id": "0d3bf6ca",
   "metadata": {},
   "outputs": [
    {
     "data": {
      "text/plain": [
       "Index(['robot', 'patient', 'use', 'surgeri', 'studi', 'result', 'p', 'outcom',\n",
       "       'surgic', 'compar',\n",
       "       ...\n",
       "       'protocolis', 'prednisolon', 'prednison', 'taxan', 'blocker', 'vc',\n",
       "       'cu', 'tcc', 'afro', 'orthot'],\n",
       "      dtype='object', length=8677)"
      ]
     },
     "execution_count": 21,
     "metadata": {},
     "output_type": "execute_result"
    }
   ],
   "source": [
    "pd.Series(word_token).value_counts().index"
   ]
  },
  {
   "cell_type": "code",
   "execution_count": 18,
   "id": "dd778670",
   "metadata": {},
   "outputs": [
    {
     "name": "stdout",
     "output_type": "stream",
     "text": [
      "robot         3183\n",
      "patient       2151\n",
      "use           1787\n",
      "surgeri       1486\n",
      "studi         1402\n",
      "result        1109\n",
      "p             1056\n",
      "outcom        1034\n",
      "surgic         910\n",
      "compar         899\n",
      "perform        890\n",
      "method         826\n",
      "assist         807\n",
      "time           769\n",
      "oper           768\n",
      "group          753\n",
      "rate           747\n",
      "includ         718\n",
      "human          691\n",
      "differ         690\n",
      "trust          619\n",
      "conclus        613\n",
      "data           602\n",
      "system         601\n",
      "approach       597\n",
      "treatment      580\n",
      "procedur       577\n",
      "cancer         570\n",
      "laparoscop     562\n",
      "control        558\n",
      "dtype: int64\n",
      "robot         3183\n",
      "patient       2151\n",
      "use           1787\n",
      "surgeri       1486\n",
      "studi         1402\n",
      "result        1109\n",
      "p             1056\n",
      "outcom        1034\n",
      "surgic         910\n",
      "compar         899\n",
      "perform        890\n",
      "method         826\n",
      "assist         807\n",
      "time           769\n",
      "oper           768\n",
      "group          753\n",
      "rate           747\n",
      "includ         718\n",
      "human          691\n",
      "differ         690\n",
      "trust          619\n",
      "conclus        613\n",
      "data           602\n",
      "system         601\n",
      "approach       597\n",
      "treatment      580\n",
      "procedur       577\n",
      "cancer         570\n",
      "laparoscop     562\n",
      "control        558\n",
      "dtype: int64\n"
     ]
    }
   ],
   "source": [
    "data_path = '../data/topic2/trust_robot.csv'\n",
    "data = extract_texts(data_path)\n",
    "word_token = text_preprocessing(data)\n",
    "frequency_obj = frequency_analysis(word_token, 30)\n",
    "print(frequency_obj)\n",
    "# show_figure_forFrequency(frequency_obj)"
   ]
  },
  {
   "cell_type": "code",
   "execution_count": null,
   "id": "572682c7",
   "metadata": {},
   "outputs": [],
   "source": []
  }
 ],
 "metadata": {
  "kernelspec": {
   "display_name": "Python 3 (ipykernel)",
   "language": "python",
   "name": "python3"
  },
  "language_info": {
   "codemirror_mode": {
    "name": "ipython",
    "version": 3
   },
   "file_extension": ".py",
   "mimetype": "text/x-python",
   "name": "python",
   "nbconvert_exporter": "python",
   "pygments_lexer": "ipython3",
   "version": "3.8.8"
  }
 },
 "nbformat": 4,
 "nbformat_minor": 5
}
