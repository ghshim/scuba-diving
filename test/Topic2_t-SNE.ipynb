{
 "cells": [
  {
   "cell_type": "code",
   "execution_count": 7,
   "id": "28450555",
   "metadata": {},
   "outputs": [],
   "source": [
    "import pandas as pd\n",
    "from sklearn.manifold import TSNE\n",
    "from sklearn.feature_extraction.text import TfidfVectorizer\n",
    "from nltk.corpus import stopwords\n",
    "from nltk.tokenize import RegexpTokenizer\n",
    "from nltk.stem.porter import PorterStemmer"
   ]
  },
  {
   "cell_type": "code",
   "execution_count": 4,
   "id": "6993a4ea",
   "metadata": {},
   "outputs": [],
   "source": [
    "def extract_text(data_path):\n",
    "    '''\n",
    "    extract text(abstract) in data\n",
    "    '''\n",
    "    df = pd.read_csv(data_path)\n",
    "    texts = df['abstract'].to_list()\n",
    "    return texts"
   ]
  },
  {
   "cell_type": "code",
   "execution_count": 8,
   "id": "f36b3c72",
   "metadata": {},
   "outputs": [],
   "source": [
    "def tokenizer(text):\n",
    "    tokens = RegTok.tokenize(text.lower())\n",
    "    # stopwords 제외\n",
    "    words = [word for word in tokens if (word not in english_stops) and len(word)>2]\n",
    "    # porter stemmer 적용\n",
    "    features = (list(map(lambda token: PorterStemmer().stem(token), words)))\n",
    "    return features"
   ]
  },
  {
   "cell_type": "code",
   "execution_count": 5,
   "id": "13b2ba06",
   "metadata": {},
   "outputs": [],
   "source": [
    "# load data and extract texts (abstract)\n",
    "path = '../data/trust_robot.csv'\n",
    "papers = extract_text(path)"
   ]
  },
  {
   "cell_type": "code",
   "execution_count": 9,
   "id": "708397ac",
   "metadata": {},
   "outputs": [],
   "source": [
    "cachedStopWords = stopwords.words(\"english\")\n",
    "RegTok = RegexpTokenizer(\"[\\w']{3,}\")\n",
    "english_stops = set(stopwords.words('english'))\n",
    "\n",
    "tfidf = TfidfVectorizer(tokenizer=tokenizer)\n",
    "papers_tfidf = tfidf.fit_transform(papers)"
   ]
  },
  {
   "cell_type": "code",
   "execution_count": 11,
   "id": "6974019c",
   "metadata": {},
   "outputs": [
    {
     "name": "stderr",
     "output_type": "stream",
     "text": [
      "/Users/shimgahyeon/opt/anaconda3/lib/python3.8/site-packages/sklearn/manifold/_t_sne.py:795: FutureWarning: The default initialization in TSNE will change from 'random' to 'pca' in 1.2.\n",
      "  warnings.warn(\n",
      "/Users/shimgahyeon/opt/anaconda3/lib/python3.8/site-packages/sklearn/manifold/_t_sne.py:805: FutureWarning: The default learning rate in TSNE will change from 200.0 to 'auto' in 1.2.\n",
      "  warnings.warn(\n"
     ]
    },
    {
     "name": "stdout",
     "output_type": "stream",
     "text": [
      "TSNE dimension: (1236, 2)\n"
     ]
    }
   ],
   "source": [
    "tsne = TSNE(n_components=2, random_state=7)\n",
    "tsne_tfidf = tsne.fit_transform(papers_tfidf)\n",
    "print('TSNE dimension:', tsne_tfidf.shape)"
   ]
  },
  {
   "cell_type": "code",
   "execution_count": null,
   "id": "d313e150",
   "metadata": {},
   "outputs": [],
   "source": [
    "def tsne_graph(tsne_2, lim=None):\n",
    "    colors = {}"
   ]
  }
 ],
 "metadata": {
  "kernelspec": {
   "display_name": "Python 3 (ipykernel)",
   "language": "python",
   "name": "python3"
  },
  "language_info": {
   "codemirror_mode": {
    "name": "ipython",
    "version": 3
   },
   "file_extension": ".py",
   "mimetype": "text/x-python",
   "name": "python",
   "nbconvert_exporter": "python",
   "pygments_lexer": "ipython3",
   "version": "3.8.8"
  }
 },
 "nbformat": 4,
 "nbformat_minor": 5
}
