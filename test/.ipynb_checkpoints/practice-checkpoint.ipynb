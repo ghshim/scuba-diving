{
 "cells": [
  {
   "cell_type": "markdown",
   "id": "4b3c76e3",
   "metadata": {},
   "source": [
    "# 텍스트 전처리"
   ]
  },
  {
   "cell_type": "markdown",
   "id": "c237be88",
   "metadata": {},
   "source": [
    "## 전처리의 단계\n",
    "1. 정제 (clearning) <br>\n",
    "분석에 불필요한 노이즈 제거. 토근화 이전에 일어지나 토큰화 이후에도 필요하면 지속적으로 이루어진다. (ex. stopwords 제거) <br>\n",
    "2. 토큰화 (Tokenization) <br>\n",
    "주어진 텍스트를 원하는 단위(Token)으로 나누는 작업 <br>\n",
    "3. 정규화 <br>\n",
    "같은 의미를 가진 동일한 단어임에도 불구하고 다른 형태로 쓰여진 단어들을 통일시켜서 표준 단어로 만드는 작업 <br>\n",
    "정규화는 방법에 따라 어간 추출과 표제어 추출(lemmatization)로 나뉜다. <br>\n",
    "4. 품사 태깅 <br>\n",
    "앞서 토크놔한 단어에 대해 품사를 파악해 부착하는 것을 의미 <br>"
   ]
  },
  {
   "cell_type": "code",
   "execution_count": 1,
   "id": "bb772a36",
   "metadata": {},
   "outputs": [
    {
     "name": "stderr",
     "output_type": "stream",
     "text": [
      "/Users/shimgahyeon/opt/anaconda3/lib/python3.8/site-packages/scipy/__init__.py:138: UserWarning: A NumPy version >=1.16.5 and <1.23.0 is required for this version of SciPy (detected version 1.23.1)\n",
      "  warnings.warn(f\"A NumPy version >={np_minversion} and <{np_maxversion} is required for this version of \"\n",
      "[nltk_data] Downloading package punkt to\n",
      "[nltk_data]     /Users/shimgahyeon/nltk_data...\n",
      "[nltk_data]   Unzipping tokenizers/punkt.zip.\n",
      "[nltk_data] Downloading package webtext to\n",
      "[nltk_data]     /Users/shimgahyeon/nltk_data...\n",
      "[nltk_data]   Unzipping corpora/webtext.zip.\n",
      "[nltk_data] Downloading package wordnet to\n",
      "[nltk_data]     /Users/shimgahyeon/nltk_data...\n",
      "[nltk_data] Downloading package stopwords to\n",
      "[nltk_data]     /Users/shimgahyeon/nltk_data...\n",
      "[nltk_data]   Unzipping corpora/stopwords.zip.\n",
      "[nltk_data] Downloading package averaged_perceptron_tagger to\n",
      "[nltk_data]     /Users/shimgahyeon/nltk_data...\n",
      "[nltk_data]   Unzipping taggers/averaged_perceptron_tagger.zip.\n"
     ]
    },
    {
     "data": {
      "text/plain": [
       "True"
      ]
     },
     "execution_count": 1,
     "metadata": {},
     "output_type": "execute_result"
    }
   ],
   "source": [
    "import nltk\n",
    "nltk.download('punkt')\n",
    "nltk.download('webtext')\n",
    "nltk.download('wordnet')\n",
    "nltk.download('stopwords')\n",
    "nltk.download('averaged_perceptron_tagger')"
   ]
  },
  {
   "cell_type": "markdown",
   "id": "167c0af4",
   "metadata": {},
   "source": [
    "### 토큰화"
   ]
  },
  {
   "cell_type": "code",
   "execution_count": 5,
   "id": "4179fabc",
   "metadata": {},
   "outputs": [
    {
     "name": "stdout",
     "output_type": "stream",
     "text": [
      "['Hello everyone.', \"It's good to see you.\", \"Let's start our text mining class!\"]\n",
      "['Hello', 'everyone', '.', 'It', \"'s\", 'good', 'to', 'see', 'you', '.', 'Let', \"'s\", 'start', 'our', 'text', 'mining', 'class', '!']\n",
      "['Hello', 'everyone', '.', 'It', \"'\", 's', 'good', 'to', 'see', 'you', '.', 'Let', \"'\", 's', 'start', 'our', 'text', 'mining', 'class', '!']\n"
     ]
    }
   ],
   "source": [
    "from nltk.tokenize import sent_tokenize, word_tokenize, WordPunctTokenizer\n",
    "para = \"Hello everyone. It's good to see you. Let's start our text mining class!\"\n",
    "print(sent_tokenize(para))\n",
    "print(word_tokenize(para))\n",
    "print(WordPunctTokenizer().tokenize(para))"
   ]
  },
  {
   "cell_type": "code",
   "execution_count": 7,
   "id": "0e52279e",
   "metadata": {},
   "outputs": [
    {
     "name": "stdout",
     "output_type": "stream",
     "text": [
      "['Sorry', 'I', \"can't\", 'go', 'there']\n"
     ]
    }
   ],
   "source": [
    "from nltk.tokenize import RegexpTokenizer\n",
    "# regular expression을 이용한 tokenizer\n",
    "# 단어 단위로 tokenize \\w: 문자나 숫자를 의미. 즉 문자나 숫자 혹은 '가 반복되는 것을 찾아냄\n",
    "tokenizer = RegexpTokenizer(\"[\\w']+\")\n",
    "\n",
    "# can't를 하나의 단어로 인식\n",
    "print(tokenizer.tokenize(\"Sorry, I can't go there.\"))"
   ]
  },
  {
   "cell_type": "code",
   "execution_count": 8,
   "id": "1650c644",
   "metadata": {},
   "outputs": [
    {
     "name": "stdout",
     "output_type": "stream",
     "text": [
      "['sorry', \"can't\", 'there']\n"
     ]
    }
   ],
   "source": [
    "text1 = \"Sorry, I can't go there.\"\n",
    "tokenizer = RegexpTokenizer(\"['\\w']{3,}\")\n",
    "print(tokenizer.tokenize(text1.lower()))"
   ]
  },
  {
   "cell_type": "markdown",
   "id": "e990c935",
   "metadata": {},
   "source": [
    "### 불용어\n",
    "불용어: 보통 불용어는 빈도가 너무 적거나 혹은 반대로 빈도가 너무 많아서 별 필요가 없는 단어들. 영어에서는 보통 길이가 3 미만인 단어들은 삭제하는 것이 일반적이다."
   ]
  },
  {
   "cell_type": "code",
   "execution_count": 9,
   "id": "58b5bcf8",
   "metadata": {},
   "outputs": [
    {
     "data": {
      "text/plain": [
       "{'a',\n",
       " 'about',\n",
       " 'above',\n",
       " 'after',\n",
       " 'again',\n",
       " 'against',\n",
       " 'ain',\n",
       " 'all',\n",
       " 'am',\n",
       " 'an',\n",
       " 'and',\n",
       " 'any',\n",
       " 'are',\n",
       " 'aren',\n",
       " \"aren't\",\n",
       " 'as',\n",
       " 'at',\n",
       " 'be',\n",
       " 'because',\n",
       " 'been',\n",
       " 'before',\n",
       " 'being',\n",
       " 'below',\n",
       " 'between',\n",
       " 'both',\n",
       " 'but',\n",
       " 'by',\n",
       " 'can',\n",
       " 'couldn',\n",
       " \"couldn't\",\n",
       " 'd',\n",
       " 'did',\n",
       " 'didn',\n",
       " \"didn't\",\n",
       " 'do',\n",
       " 'does',\n",
       " 'doesn',\n",
       " \"doesn't\",\n",
       " 'doing',\n",
       " 'don',\n",
       " \"don't\",\n",
       " 'down',\n",
       " 'during',\n",
       " 'each',\n",
       " 'few',\n",
       " 'for',\n",
       " 'from',\n",
       " 'further',\n",
       " 'had',\n",
       " 'hadn',\n",
       " \"hadn't\",\n",
       " 'has',\n",
       " 'hasn',\n",
       " \"hasn't\",\n",
       " 'have',\n",
       " 'haven',\n",
       " \"haven't\",\n",
       " 'having',\n",
       " 'he',\n",
       " 'her',\n",
       " 'here',\n",
       " 'hers',\n",
       " 'herself',\n",
       " 'him',\n",
       " 'himself',\n",
       " 'his',\n",
       " 'how',\n",
       " 'i',\n",
       " 'if',\n",
       " 'in',\n",
       " 'into',\n",
       " 'is',\n",
       " 'isn',\n",
       " \"isn't\",\n",
       " 'it',\n",
       " \"it's\",\n",
       " 'its',\n",
       " 'itself',\n",
       " 'just',\n",
       " 'll',\n",
       " 'm',\n",
       " 'ma',\n",
       " 'me',\n",
       " 'mightn',\n",
       " \"mightn't\",\n",
       " 'more',\n",
       " 'most',\n",
       " 'mustn',\n",
       " \"mustn't\",\n",
       " 'my',\n",
       " 'myself',\n",
       " 'needn',\n",
       " \"needn't\",\n",
       " 'no',\n",
       " 'nor',\n",
       " 'not',\n",
       " 'now',\n",
       " 'o',\n",
       " 'of',\n",
       " 'off',\n",
       " 'on',\n",
       " 'once',\n",
       " 'only',\n",
       " 'or',\n",
       " 'other',\n",
       " 'our',\n",
       " 'ours',\n",
       " 'ourselves',\n",
       " 'out',\n",
       " 'over',\n",
       " 'own',\n",
       " 're',\n",
       " 's',\n",
       " 'same',\n",
       " 'shan',\n",
       " \"shan't\",\n",
       " 'she',\n",
       " \"she's\",\n",
       " 'should',\n",
       " \"should've\",\n",
       " 'shouldn',\n",
       " \"shouldn't\",\n",
       " 'so',\n",
       " 'some',\n",
       " 'such',\n",
       " 't',\n",
       " 'than',\n",
       " 'that',\n",
       " \"that'll\",\n",
       " 'the',\n",
       " 'their',\n",
       " 'theirs',\n",
       " 'them',\n",
       " 'themselves',\n",
       " 'then',\n",
       " 'there',\n",
       " 'these',\n",
       " 'they',\n",
       " 'this',\n",
       " 'those',\n",
       " 'through',\n",
       " 'to',\n",
       " 'too',\n",
       " 'under',\n",
       " 'until',\n",
       " 'up',\n",
       " 've',\n",
       " 'very',\n",
       " 'was',\n",
       " 'wasn',\n",
       " \"wasn't\",\n",
       " 'we',\n",
       " 'were',\n",
       " 'weren',\n",
       " \"weren't\",\n",
       " 'what',\n",
       " 'when',\n",
       " 'where',\n",
       " 'which',\n",
       " 'while',\n",
       " 'who',\n",
       " 'whom',\n",
       " 'why',\n",
       " 'will',\n",
       " 'with',\n",
       " 'won',\n",
       " \"won't\",\n",
       " 'wouldn',\n",
       " \"wouldn't\",\n",
       " 'y',\n",
       " 'you',\n",
       " \"you'd\",\n",
       " \"you'll\",\n",
       " \"you're\",\n",
       " \"you've\",\n",
       " 'your',\n",
       " 'yours',\n",
       " 'yourself',\n",
       " 'yourselves'}"
      ]
     },
     "execution_count": 9,
     "metadata": {},
     "output_type": "execute_result"
    }
   ],
   "source": [
    "from nltk.corpus import stopwords\n",
    "english_stops = set(stopwords.words('english'))\n",
    "english_stops"
   ]
  },
  {
   "cell_type": "code",
   "execution_count": 10,
   "id": "dae2552c",
   "metadata": {},
   "outputs": [
    {
     "name": "stdout",
     "output_type": "stream",
     "text": [
      "['sorry', \"can't\", 'go', 'movie', 'yesterday']\n"
     ]
    }
   ],
   "source": [
    "text1 = \"Sorry, I can't go to movie yesterday.\"\n",
    "tokenizer = RegexpTokenizer(\"[\\w']+\")\n",
    "tokens = tokenizer.tokenize(text1.lower())\n",
    "result = [word for word in tokens if word not in english_stops]\n",
    "print(result)"
   ]
  },
  {
   "cell_type": "markdown",
   "id": "ea39f1e5",
   "metadata": {},
   "source": [
    "### 정규화\n",
    "같은 의미를 가진 동일한 단어이면서 다른 형태로 쓰여진 단어들을 통일해 표준 단어로 만드는 작업"
   ]
  },
  {
   "cell_type": "markdown",
   "id": "911e3fc7",
   "metadata": {},
   "source": [
    "#### 어간(stem) 추출\n",
    "어형이 변형된 단어로부터 접사 등을 제거하고 그 단어의 어간을 분리해내는 작업  \n",
    "영어에 대한 어간 추출 알고리즘으로는 포터 스테머(Porter Stemmer), 랭카스터 스테머(Lancaster Stemmer) 등으로 잘 알려져 있다."
   ]
  },
  {
   "cell_type": "code",
   "execution_count": 11,
   "id": "17d71b79",
   "metadata": {},
   "outputs": [
    {
     "name": "stdout",
     "output_type": "stream",
     "text": [
      "cook cookeri cookbook\n"
     ]
    }
   ],
   "source": [
    "from nltk.stem import PorterStemmer\n",
    "stemmer = PorterStemmer()\n",
    "print(stemmer.stem('cooking'), stemmer.stem('cookery'), stemmer.stem('cookbooks'))"
   ]
  },
  {
   "cell_type": "code",
   "execution_count": 13,
   "id": "f2b325e7",
   "metadata": {},
   "outputs": [
    {
     "name": "stdout",
     "output_type": "stream",
     "text": [
      "['Hello', 'everyone', '.', 'It', \"'s\", 'good', 'to', 'see', 'you', '.', 'Let', \"'s\", 'start', 'our', 'text', 'mining', 'class', '!']\n",
      "['hello', 'everyon', '.', 'it', \"'s\", 'good', 'to', 'see', 'you', '.', 'let', \"'s\", 'start', 'our', 'text', 'mine', 'class', '!']\n"
     ]
    }
   ],
   "source": [
    "para = \"Hello everyone. It's good to see you. Let's start our text mining class!\"\n",
    "tokens = word_tokenize(para)\n",
    "print(tokens)\n",
    "\n",
    "result = [stemmer.stem(token) for token in tokens]\n",
    "print(result)"
   ]
  },
  {
   "cell_type": "code",
   "execution_count": 15,
   "id": "f1bf3119",
   "metadata": {},
   "outputs": [
    {
     "name": "stdout",
     "output_type": "stream",
     "text": [
      "cook cookery cookbook\n"
     ]
    }
   ],
   "source": [
    "from nltk.stem import LancasterStemmer\n",
    "stemmer = LancasterStemmer()\n",
    "print(stemmer.stem('cooking'), stemmer.stem('cookery'), stemmer.stem('cookbooks'))"
   ]
  },
  {
   "cell_type": "markdown",
   "id": "828c9a8e",
   "metadata": {},
   "source": [
    "### 표제어 추출 (Lemmatization)\n",
    "주어진 단어를 기본형으로 변환하는 것  \n",
    "사전을 이용해 사전에 정의된 기본형으로 변환한다  \n",
    "영어에 대한 lemmatizer로 유명한 어휘 데이터베이스인 WordNet을 이용한 WordNet lemmatizer가 잘 알려져있다."
   ]
  },
  {
   "cell_type": "code",
   "execution_count": 17,
   "id": "97c42da9",
   "metadata": {},
   "outputs": [
    {
     "name": "stderr",
     "output_type": "stream",
     "text": [
      "[nltk_data] Downloading package omw-1.4 to\n",
      "[nltk_data]     /Users/shimgahyeon/nltk_data...\n"
     ]
    },
    {
     "data": {
      "text/plain": [
       "True"
      ]
     },
     "execution_count": 17,
     "metadata": {},
     "output_type": "execute_result"
    }
   ],
   "source": [
    "nltk.download('omw-1.4')"
   ]
  },
  {
   "cell_type": "code",
   "execution_count": 19,
   "id": "17e5c2a3",
   "metadata": {},
   "outputs": [
    {
     "name": "stdout",
     "output_type": "stream",
     "text": [
      "cooking\n",
      "cook\n",
      "cookery\n",
      "cookbook\n"
     ]
    }
   ],
   "source": [
    "from nltk.stem import WordNetLemmatizer\n",
    "lemmatizer = WordNetLemmatizer()\n",
    "print(lemmatizer.lemmatize('cooking'))\n",
    "print(lemmatizer.lemmatize('cooking', pos='v')) # 품사 지정\n",
    "print(lemmatizer.lemmatize('cookery'))\n",
    "print(lemmatizer.lemmatize('cookbooks'))"
   ]
  },
  {
   "cell_type": "markdown",
   "id": "293d4389",
   "metadata": {},
   "source": [
    "## 품사 태깅 (Part-of-Speech Tagging)\n",
    "형태소에 대해 품사를 파악해 부착(tagging)하는 작업을 말한다"
   ]
  },
  {
   "cell_type": "code",
   "execution_count": 20,
   "id": "32747d88",
   "metadata": {},
   "outputs": [
    {
     "name": "stdout",
     "output_type": "stream",
     "text": [
      "[('Hello', 'NNP'), ('everyone', 'NN'), ('.', '.'), ('It', 'PRP'), (\"'s\", 'VBZ'), ('good', 'JJ'), ('to', 'TO'), ('see', 'VB'), ('you', 'PRP'), ('.', '.'), ('Let', 'VB'), (\"'s\", 'POS'), ('start', 'VB'), ('our', 'PRP$'), ('text', 'NN'), ('mining', 'NN'), ('class', 'NN'), ('!', '.')]\n"
     ]
    }
   ],
   "source": [
    "tokens = word_tokenize(\"Hello everyone. It's good to see you. Let's start our text mining class!\")\n",
    "print(nltk.pos_tag(tokens))"
   ]
  },
  {
   "cell_type": "code",
   "execution_count": 22,
   "id": "745b4164",
   "metadata": {},
   "outputs": [
    {
     "name": "stderr",
     "output_type": "stream",
     "text": [
      "[nltk_data] Downloading package tagsets to\n",
      "[nltk_data]     /Users/shimgahyeon/nltk_data...\n"
     ]
    },
    {
     "name": "stdout",
     "output_type": "stream",
     "text": [
      "CC: conjunction, coordinating\n",
      "    & 'n and both but either et for less minus neither nor or plus so\n",
      "    therefore times v. versus vs. whether yet\n"
     ]
    },
    {
     "name": "stderr",
     "output_type": "stream",
     "text": [
      "[nltk_data]   Unzipping help/tagsets.zip.\n"
     ]
    }
   ],
   "source": [
    "nltk.download('tagsets')\n",
    "nltk.help.upenn_tagset('CC')"
   ]
  },
  {
   "cell_type": "markdown",
   "id": "60e71ab5",
   "metadata": {},
   "source": [
    "원하는 품사의 단어들만 추출하기"
   ]
  },
  {
   "cell_type": "code",
   "execution_count": 24,
   "id": "41508835",
   "metadata": {},
   "outputs": [
    {
     "name": "stdout",
     "output_type": "stream",
     "text": [
      "['everyone', 'good', 'see', 'Let', 'start', 'text', 'mining', 'class']\n"
     ]
    }
   ],
   "source": [
    "my_tag_set = ['NN', 'VB', 'JJ']\n",
    "my_words = [word for word, tag in nltk.pos_tag(tokens) if tag in my_tag_set] \n",
    "print(my_words)"
   ]
  },
  {
   "cell_type": "markdown",
   "id": "32dbdf32",
   "metadata": {},
   "source": [
    "# 2. 카운트 기반의 문서 표현"
   ]
  },
  {
   "cell_type": "markdown",
   "id": "26733535",
   "metadata": {},
   "source": [
    "## BOW 기반의 카운트 벡터 생성"
   ]
  },
  {
   "cell_type": "code",
   "execution_count": 26,
   "id": "88e6616a",
   "metadata": {},
   "outputs": [
    {
     "name": "stderr",
     "output_type": "stream",
     "text": [
      "[nltk_data] Downloading package movie_reviews to\n",
      "[nltk_data]     /Users/shimgahyeon/nltk_data...\n",
      "[nltk_data]   Unzipping corpora/movie_reviews.zip.\n"
     ]
    },
    {
     "data": {
      "text/plain": [
       "True"
      ]
     },
     "execution_count": 26,
     "metadata": {},
     "output_type": "execute_result"
    }
   ],
   "source": [
    "nltk.download('movie_reviews')"
   ]
  },
  {
   "cell_type": "code",
   "execution_count": 31,
   "id": "fea69c8e",
   "metadata": {},
   "outputs": [
    {
     "name": "stdout",
     "output_type": "stream",
     "text": [
      "review count: 2000\n"
     ]
    }
   ],
   "source": [
    "from nltk.corpus import movie_reviews\n",
    "print(\"review count:\", len(movie_reviews.fileids()))"
   ]
  },
  {
   "cell_type": "code",
   "execution_count": 36,
   "id": "a94e7ba5",
   "metadata": {},
   "outputs": [
    {
     "name": "stdout",
     "output_type": "stream",
     "text": [
      "num of features: 43030\n",
      "count of 'film': 8935, count of 'one': 5791, count of 'movie': 5538, count of 'like': 3690, count of 'even': 2564, count of 'time': 2409, count of 'good': 2407, count of 'story': 2136, count of 'would': 2084, count of 'much': 2049, "
     ]
    }
   ],
   "source": [
    "from nltk.tokenize import RegexpTokenizer\n",
    "from nltk.corpus import stopwords\n",
    "\n",
    "tokenizer = RegexpTokenizer(\"[\\w']{3,}\")\n",
    "english_stops = set(stopwords.words('english'))\n",
    "\n",
    "# words() 대신 raw()로 원문 가져옴\n",
    "documents = [movie_reviews.raw(fileid) for fileid in movie_reviews.fileids()]\n",
    "\n",
    "# stopwords 적용 및 토큰화\n",
    "tokens = [[token for token in tokenizer.tokenize(doc) if token not in english_stops] for doc in documents]\n",
    "word_count = {}\n",
    "\n",
    "for text in tokens:\n",
    "    for word in text:\n",
    "        word_count[word] = word_count.get(word, 0) + 1\n",
    "\n",
    "sorted_features = sorted(word_count, key=word_count.get, reverse=True)\n",
    "\n",
    "print('num of features:', len(sorted_features))\n",
    "for word in sorted_features[:10]:\n",
    "    print(f\"count of '{word}': {word_count[word]}\", end=', ')"
   ]
  },
  {
   "cell_type": "code",
   "execution_count": 37,
   "id": "b43dd169",
   "metadata": {},
   "outputs": [],
   "source": [
    "# 빈도 높은 상위 1000개의 단어만 추출해 features 구성\n",
    "word_features = sorted_features[:1000]"
   ]
  },
  {
   "cell_type": "markdown",
   "id": "ee128273",
   "metadata": {},
   "source": [
    "주어진 문서를 카운트 벡터로 변환"
   ]
  },
  {
   "cell_type": "code",
   "execution_count": 39,
   "id": "e46421c0",
   "metadata": {},
   "outputs": [],
   "source": [
    "# 주어진 document를 feature로 변환하는 함수, word_features 사용\n",
    "def document_features(document, word_features):\n",
    "    word_count = {}\n",
    "    for word in document: # document에 있는 단어들에 대해 빈도수 먼저 계산\n",
    "        word_count[word] = word_count.get(word, 0) + 1\n",
    "    \n",
    "    features = []\n",
    "    # word features의 단어에 대해 계산된 빈도수를 feature에 추가\n",
    "    for word in word_features:\n",
    "        features.append(word_count.get(word, 0))\n",
    "        \n",
    "    return features"
   ]
  },
  {
   "cell_type": "code",
   "execution_count": 40,
   "id": "3fb9e307",
   "metadata": {},
   "outputs": [
    {
     "name": "stdout",
     "output_type": "stream",
     "text": [
      "[0, 2, 0, 1, 0]\n"
     ]
    }
   ],
   "source": [
    "word_features_ex = ['one', 'two', 'teen', 'couples', 'solo']\n",
    "doc_ex = ['two', 'two', 'couples']\n",
    "print(document_features(doc_ex, word_features_ex))"
   ]
  },
  {
   "cell_type": "markdown",
   "id": "eb87b200",
   "metadata": {},
   "source": [
    "전체 리뷰 집합에 대해 특성 추출"
   ]
  },
  {
   "cell_type": "code",
   "execution_count": 43,
   "id": "34686f06",
   "metadata": {},
   "outputs": [
    {
     "name": "stdout",
     "output_type": "stream",
     "text": [
      "(film, 5), (one, 3), (movie, 6), (like, 3), (even, 3), (time, 0), (good, 2), (story, 0), (would, 1), (much, 0), (also, 1), (get, 3), (character, 1), (two, 2), (well, 1), (first, 0), (characters, 1), (see, 2), (way, 3), (make, 5), "
     ]
    }
   ],
   "source": [
    "feature_sets = [document_features(d, word_features) for d in tokens]\n",
    "for i in range(20):\n",
    "    print(f'({word_features[i]}, {feature_sets[0][i]})', end=', ')"
   ]
  },
  {
   "cell_type": "markdown",
   "id": "45e14702",
   "metadata": {},
   "source": [
    "### 사이킷런으로 카운트 벡터 생성"
   ]
  },
  {
   "cell_type": "code",
   "execution_count": 47,
   "id": "a914b19e",
   "metadata": {},
   "outputs": [],
   "source": [
    "from sklearn.feature_extraction.text import CountVectorizer\n",
    "\n",
    "# cv = CountVectorizer() 모든 매개변수에 기본값을 사용하는 경우\n",
    "\n",
    "# 앞에서 생성한 word_features로 특성 집합을 지정하는 경우\n",
    "cv = CountVectorizer(vocabulary=word_features)\n",
    "\n",
    "# 특성 집합을 지정하지 않고 최대 특성의 수를 지정하는 경우\n",
    "# cv = CountVectorizer(max_features=1000)"
   ]
  },
  {
   "cell_type": "code",
   "execution_count": 49,
   "id": "c9a48063",
   "metadata": {},
   "outputs": [
    {
     "name": "stdout",
     "output_type": "stream",
     "text": [
      "['film' 'one' 'movie' 'like' 'even' 'time' 'good' 'story' 'would' 'much'\n",
      " 'also' 'get' 'character' 'two' 'well' 'first' 'characters' 'see' 'way'\n",
      " 'make']\n",
      "['film', 'one', 'movie', 'like', 'even', 'time', 'good', 'story', 'would', 'much', 'also', 'get', 'character', 'two', 'well', 'first', 'characters', 'see', 'way', 'make']\n"
     ]
    }
   ],
   "source": [
    "reviews = [movie_reviews.raw(fileid) for fileid in movie_reviews.fileids()]\n",
    "# reviews를 이용해 count vector를 학습하고 변환\n",
    "reviews_cv = cv.fit_transform(reviews)\n",
    "# counter vector에 사용된 feature의 이름을 반환\n",
    "print(cv.get_feature_names_out()[:20]) \n",
    "# 비교를 위해 출력\n",
    "print(word_features[:20])"
   ]
  },
  {
   "cell_type": "code",
   "execution_count": 50,
   "id": "e707b08e",
   "metadata": {},
   "outputs": [
    {
     "name": "stdout",
     "output_type": "stream",
     "text": [
      "type of count vectors: <class 'scipy.sparse.csr.csr_matrix'>\n",
      "shape of count vectors: (2000, 1000)\n",
      "sample of count vector:\n",
      "  (0, 0)\t6\n",
      "  (0, 1)\t3\n",
      "  (0, 2)\t6\n",
      "  (0, 3)\t3\n",
      "  (0, 4)\t3\n",
      "  (0, 6)\t2\n",
      "  (0, 8)\t1\n"
     ]
    }
   ],
   "source": [
    "print(\"type of count vectors:\", type(reviews_cv))\n",
    "print(\"shape of count vectors:\", reviews_cv.shape)\n",
    "print(\"sample of count vector:\")\n",
    "print(reviews_cv[0, :10])"
   ]
  },
  {
   "cell_type": "code",
   "execution_count": 51,
   "id": "353f5aa5",
   "metadata": {},
   "outputs": [
    {
     "data": {
      "text/plain": [
       "<2000x1000 sparse matrix of type '<class 'numpy.int64'>'\n",
       "\twith 252984 stored elements in Compressed Sparse Row format>"
      ]
     },
     "execution_count": 51,
     "metadata": {},
     "output_type": "execute_result"
    }
   ],
   "source": [
    "reviews_cv"
   ]
  },
  {
   "cell_type": "code",
   "execution_count": 52,
   "id": "a27dc351",
   "metadata": {},
   "outputs": [
    {
     "name": "stdout",
     "output_type": "stream",
     "text": [
      "[5, 3, 6, 3, 3, 0, 2, 0, 1, 0, 1, 3, 1, 2, 1, 0, 1, 2, 3, 5]\n",
      "[6 3 6 3 3 0 2 0 1 0 1 3 2 2 1 0 1 2 3 5]\n"
     ]
    }
   ],
   "source": [
    "print(feature_sets[0][:20])\n",
    "print(reviews_cv.toarray()[0, :20])"
   ]
  },
  {
   "cell_type": "code",
   "execution_count": 53,
   "id": "9ca43ce7",
   "metadata": {},
   "outputs": [
    {
     "name": "stdout",
     "output_type": "stream",
     "text": [
      "film:6, one:3, movie:6, like:3, even:3, time:0, good:2, story:0, would:1, much:0, also:1, get:3, character:2, two:2, well:1, first:0, characters:1, see:2, way:3, make:5, "
     ]
    }
   ],
   "source": [
    "for word, count in zip(cv.get_feature_names_out()[:20], reviews_cv[0].toarray()[0, :20]):\n",
    "    print(f\"{word}:{count}\", end=', ')"
   ]
  },
  {
   "cell_type": "markdown",
   "id": "6c5c2282",
   "metadata": {},
   "source": [
    "### 카운트 벡터의 활용\n",
    "카운트 벡터는 문서 간의 유사도를 측정하는 데에 사용될 수 있다."
   ]
  },
  {
   "cell_type": "markdown",
   "id": "29d219fb",
   "metadata": {},
   "source": [
    "# 4. Topic Modeling"
   ]
  },
  {
   "cell_type": "markdown",
   "id": "590d5041",
   "metadata": {},
   "source": [
    "## LDA"
   ]
  },
  {
   "cell_type": "markdown",
   "id": "a660197b",
   "metadata": {},
   "source": [
    "LDA는 내재한 토픽을 유추하고자 하는 통계적 방법론이다. LDA의 기본 가정은 문서들이 쓰여질 떄 그 문서를 구성하는 몇 개의 토픽이 존재하며 각 토픽은 단어의 집합으로 구성되었다는 것이다. 따라서 각 문서에 사용된 단어들의 빈도를 축정하고 이로부터 역으로 모든 문서의 토픽 분포와 각 토픽의 단어분포를 추정하는 것이다. 토픽 개수 K와 å, ß는 하이퍼 파라미터로 사용된다. 따라서 적절한 하이퍼파라미터를 통해서 토픽 모델링의 성능을 높일 수 있다. 이때 무엇이 적절한 값인지 판단하려면 성능에 대한 척도가 필요한데, 주로 사용하는 것으로 혼란도(perplexity)와 토픽 응집도(topic coherence)가 있다."
   ]
  },
  {
   "cell_type": "markdown",
   "id": "ed808ba4",
   "metadata": {},
   "source": [
    "1. 혼란도 (Perplexity)  \n",
    "특정한 확률 모형이 실제로 관측되는 값을 얼마나 유사하게 예측해내는지를 평가할 때 사용된다. 토픽 모델링에서는 우리가 추정한 디리클레 모형이 주어진 문서 집합을 얼마나 유사하게 생성할 수 있는지 나타낸다고 해석할 수 있다. **값이 작을 수록** 토픽 모델이 문서집합을 잘 반영한다.\n",
    "\n",
    "2. 토픽 응집도 (Coherence)  \n",
    "각 토픽에서 상위 비중을 차지하는 단어들이 의미적으로 유사한지를 나타내는 척도이다. 만일 토픽이 단일 주제를 잘 표현한다면 의미적으로 유사한 단어들의 비중이 높을 것이라는 가정에 따라 성능을 표현한다. 이 값은 혼란도와 달리 **값이 클수록** 좋다.  "
   ]
  },
  {
   "cell_type": "markdown",
   "id": "56b178cc",
   "metadata": {},
   "source": [
    "토픽 모형의 성능을 평가할 때 무엇보다 중요한 점은 **혼란도나 토픽 응집도와 같은 척도의 수치보다 토픽의 해석이 사람이 보기에 자연스러운 것이 더 중요하다는 것이다.** 따라서 척도에 따라 토픽 모형을 바로 선택하기보다는 최적값 근처에서 몇 개의 값을 선택해 모델링을 수행하고 그 결과를 사람이 직접 비교해보는 것이 좋다. "
   ]
  },
  {
   "cell_type": "code",
   "execution_count": 55,
   "id": "37131298",
   "metadata": {},
   "outputs": [
    {
     "name": "stdout",
     "output_type": "stream",
     "text": [
      "Train set size: 3219\n",
      "Selected categories: ['alt.atheism', 'comp.graphics', 'comp.sys.ibm.pc.hardware', 'sci.crypt', 'sci.space', 'talk.religion.misc']\n"
     ]
    }
   ],
   "source": [
    "from sklearn.datasets import fetch_20newsgroups\n",
    "\n",
    "categories = ['alt.atheism', 'talk.religion.misc', 'comp.graphics', 'sci.space', 'comp.sys.ibm.pc.hardware', 'sci.crypt']\n",
    "\n",
    "# 학습 데이터셋을 가져옴\n",
    "newsgroups_train = fetch_20newsgroups(subset='train', categories=categories)\n",
    "print(\"Train set size:\", len(newsgroups_train.data))\n",
    "print(\"Selected categories:\", newsgroups_train.target_names)"
   ]
  },
  {
   "cell_type": "markdown",
   "id": "a42e0de0",
   "metadata": {},
   "source": [
    "Count Vector 생성 "
   ]
  },
  {
   "cell_type": "code",
   "execution_count": 59,
   "id": "5e479784",
   "metadata": {},
   "outputs": [],
   "source": [
    "from sklearn.feature_extraction.text import CountVectorizer\n",
    "\n",
    "cv = CountVectorizer(token_pattern=\"['\\w']{3,}\", stop_words='english', max_features=2000, min_df=5, max_df=0.5)\n",
    "review_cv = cv.fit_transform(newsgroups_train.data)"
   ]
  },
  {
   "attachments": {
    "image.png": {
     "image/png": "[encoded data removed]"
    }
   },
   "cell_type": "markdown",
   "id": "f311157a",
   "metadata": {},
   "source": [
    "### LDA of sklearn\n",
    "![image.png](attachment:image.png)\n",
    "https://scikit-learn.org/stable/modules/generated/sklearn.decomposition.LatentDirichletAllocation.html"
   ]
  },
  {
   "cell_type": "markdown",
   "id": "91606963",
   "metadata": {},
   "source": [
    "\n",
    "* doc_topic_prior(a)  \n",
    "  문서의 사전 **토픽분포** 결정\n",
    "  default: 1/n_components\n",
    "* topic_word_prior(ß)  \n",
    "  문서의 사전 **단어분포**를 결정하는 매개변수\n",
    "  default: 1/n_components   \n",
    "  a를 50/n_components, ß를 0.1로 사용해보길 권함 (논문)\n",
    "* n_components  \n",
    "  토픽의 수\n",
    "* max_iter   \n",
    "  알고리즘의 최대 반복 횟수\n",
    "  default는 10, 5이하로 주면 제대로 결과가 안나올 수 있다.\n",
    "* learning_method   \n",
    "  'batch'와 'online' 두 가지가 있다.\n",
    "  'batch'가 'online'보다 성능이 더 좋은 대신 느리다\n",
    "* n_jobs  \n",
    "  사용하는 프로세서 수\n",
    "  -1을 주면 가능한 모든 프로세서 사용\n",
    "* random_state  \n",
    "  random seed"
   ]
  },
  {
   "cell_type": "code",
   "execution_count": 63,
   "id": "0d299f88",
   "metadata": {},
   "outputs": [
    {
     "name": "stdout",
     "output_type": "stream",
     "text": [
      "shape of review_topics: (3219, 10)\n",
      "sample of review_topics: [0.007 0.007 0.918 0.015 0.01  0.007 0.008 0.007 0.007 0.014]\n",
      "Sum of topic weights of documents: [0.063 0.073 0.105 0.101 0.068 0.11  0.095 0.099 0.131 0.155]\n",
      "shape of topic word distribution: (10, 2000)\n"
     ]
    }
   ],
   "source": [
    "from sklearn.decomposition import LatentDirichletAllocation\n",
    "import numpy as np\n",
    "np.set_printoptions(precision=3)\n",
    "\n",
    "lda = LatentDirichletAllocation(n_components=10, # 추출할 Topic 수\n",
    "                                max_iter=5,\n",
    "                                topic_word_prior=0.1, doc_topic_prior=1.0,\n",
    "                                learning_method='batch',\n",
    "                                n_jobs=-1,\n",
    "                                random_state=0)\n",
    "\n",
    "review_topics = lda.fit_transform(review_cv)\n",
    "print(\"shape of review_topics:\", review_topics.shape)\n",
    "print(\"sample of review_topics:\", review_topics[0])\n",
    "\n",
    "gross_topic_weights = np.mean(review_topics, axis=0) # 각 열에 대한 총 합을 구함\n",
    "print('Sum of topic weights of documents:', gross_topic_weights) # 전체 말뭉치에서 각 토픽의 평균 분포\n",
    "print('shape of topic word distribution:', lda.components_.shape) # 각 토픽에 대해 카운트 벡터에서 사용한 단어 2000개의 비중 표현"
   ]
  },
  {
   "cell_type": "markdown",
   "id": "53eb1e66",
   "metadata": {},
   "source": [
    "토픽의 내용을 파악하기 위해서 모든 단어의 비중을 전부 확인하는 것을 불가능하므로 보통은 가장 비중이 높은 단어 10-20개 정도를 본다. "
   ]
  },
  {
   "cell_type": "code",
   "execution_count": 73,
   "id": "b4613b97",
   "metadata": {},
   "outputs": [],
   "source": [
    "def print_top_words(model, feature_names, n_top_words):\n",
    "    '''\n",
    "    각 토픽별로 비중이 높은 상위 단어들을 찾아 순서대로 출력\n",
    "    '''\n",
    "    for topic_idx, topic in enumerate(model.components_):\n",
    "        print(f\"Topic #{topic_idx}: \", end='')\n",
    "        print( # 역순으로 정렬했을 때 처음부터 n_top_words까지\n",
    "            \", \".join([feature_names[i] for i in topic.argsort()[:-n_top_words-1:-1]]) \n",
    "        )"
   ]
  },
  {
   "cell_type": "code",
   "execution_count": 74,
   "id": "657b1855",
   "metadata": {},
   "outputs": [
    {
     "name": "stdout",
     "output_type": "stream",
     "text": [
      "Topic #0: internet, information, com, anonymous, email, mail, org, computer, privacy, posting\n",
      "Topic #1: image, graphics, data, available, ftp, file, images, software, version, files\n",
      "Topic #2: com, article, keith, don't, caltech, think, sandvik, posting, people, sgi\n",
      "Topic #3: space, nasa, moon, earth, orbit, ___, launch, jpeg, henry, lunar\n",
      "Topic #4: encryption, government, technology, law, clipper, new, chip, use, islam, access\n",
      "Topic #5: scsi, com, ide, card, bus, article, ibm, drive, controller, just\n",
      "Topic #6: com, host, posting, nntp, university, article, just, i'm, know, don't\n",
      "Topic #7: key, com, chip, clipper, keys, encryption, des, use, bit, disk\n",
      "Topic #8: university, posting, thanks, host, nntp, help, know, com, i'm, graphics\n",
      "Topic #9: people, god, don't, say, just, think, believe, does, like, jesus\n"
     ]
    }
   ],
   "source": [
    "print_top_words(lda, cv.get_feature_names_out(), 10)"
   ]
  },
  {
   "cell_type": "markdown",
   "id": "ea4a3f7b",
   "metadata": {},
   "source": [
    "### 최적의 토픽 수 선택하기\n",
    "sklearn은 perplexity만 제공"
   ]
  },
  {
   "cell_type": "code",
   "execution_count": 75,
   "id": "a1b27b04",
   "metadata": {},
   "outputs": [],
   "source": [
    "import matplotlib.pyplot as plt\n",
    "%matplotlib inline"
   ]
  },
  {
   "cell_type": "code",
   "execution_count": 78,
   "id": "8a45f129",
   "metadata": {},
   "outputs": [],
   "source": [
    "def show_perplexity(cv, start=10, end=30, max_iter=5, topic_word_prior=0.1, doc_topic_prior=1.0):\n",
    "    iter_num = []\n",
    "    per_value = []\n",
    "    \n",
    "    for i in range(start, end+1):\n",
    "        lda = LatentDirichletAllocation(n_components=i, max_iter=max_iter,\n",
    "                                        topic_word_prior=topic_word_prior,\n",
    "                                        doc_topic_prior=doc_topic_prior,\n",
    "                                        learning_method='batch', n_jobs=-1,\n",
    "                                        random_state=7)\n",
    "        lda.fit(cv)\n",
    "        iter_num.append(i)\n",
    "        pv = lda.perplexity(cv)\n",
    "        per_value.append(pv)\n",
    "        print(f'n_components: {i}, perplexity: {pv:0.3f}')\n",
    "        \n",
    "    plt.plot(iter_num, per_value, 'g-')\n",
    "    plt.show()\n",
    "    \n",
    "    return start + per_value.index(min(per_value))"
   ]
  },
  {
   "cell_type": "code",
   "execution_count": 79,
   "id": "1bc2c1a1",
   "metadata": {},
   "outputs": [
    {
     "name": "stdout",
     "output_type": "stream",
     "text": [
      "n_components: 6, perplexity: 1057.954\n",
      "n_components: 7, perplexity: 1062.275\n",
      "n_components: 8, perplexity: 1013.987\n",
      "n_components: 9, perplexity: 1019.736\n",
      "n_components: 10, perplexity: 1028.913\n",
      "n_components: 11, perplexity: 1037.687\n",
      "n_components: 12, perplexity: 1032.365\n",
      "n_components: 13, perplexity: 1034.407\n",
      "n_components: 14, perplexity: 1037.264\n",
      "n_components: 15, perplexity: 1047.303\n"
     ]
    },
    {
     "data": {
      "image/png": "[encoded data removed]",
      "text/plain": [
       "<Figure size 640x480 with 1 Axes>"
      ]
     },
     "metadata": {},
     "output_type": "display_data"
    },
    {
     "name": "stdout",
     "output_type": "stream",
     "text": [
      "n_components with minimum perplexity: 8\n"
     ]
    }
   ],
   "source": [
    "print(\"n_components with minimum perplexity:\", show_perplexity(review_cv, start=6, end=15))"
   ]
  },
  {
   "cell_type": "code",
   "execution_count": 81,
   "id": "e66ba930",
   "metadata": {},
   "outputs": [
    {
     "name": "stdout",
     "output_type": "stream",
     "text": [
      "Topic #0: image, graphics, available, mail, file, ftp, data, files, information, software\n",
      "Topic #1: posting, host, nntp, gov, university, nasa, com, distribution, ___, article\n",
      "Topic #2: com, keith, article, morality, think, caltech, don't, sgi, objective, posting\n",
      "Topic #3: com, article, know, jesus, just, don't, i'm, john, good, posting\n",
      "Topic #4: people, god, does, don't, think, say, believe, just, way, like\n",
      "Topic #5: drive, scsi, card, com, disk, ide, controller, bus, hard, use\n",
      "Topic #6: space, nasa, access, launch, year, moon, article, just, digex, shuttle\n",
      "Topic #7: key, encryption, clipper, chip, com, government, keys, use, security, public\n"
     ]
    },
    {
     "name": "stderr",
     "output_type": "stream",
     "text": [
      "/Users/shimgahyeon/opt/anaconda3/lib/python3.8/site-packages/scipy/__init__.py:138: UserWarning: A NumPy version >=1.16.5 and <1.23.0 is required for this version of SciPy (detected version 1.23.1)\n",
      "  warnings.warn(f\"A NumPy version >={np_minversion} and <{np_maxversion} is required for this version of \"\n",
      "/Users/shimgahyeon/opt/anaconda3/lib/python3.8/site-packages/scipy/__init__.py:138: UserWarning: A NumPy version >=1.16.5 and <1.23.0 is required for this version of SciPy (detected version 1.23.1)\n",
      "  warnings.warn(f\"A NumPy version >={np_minversion} and <{np_maxversion} is required for this version of \"\n",
      "/Users/shimgahyeon/opt/anaconda3/lib/python3.8/site-packages/scipy/__init__.py:138: UserWarning: A NumPy version >=1.16.5 and <1.23.0 is required for this version of SciPy (detected version 1.23.1)\n",
      "  warnings.warn(f\"A NumPy version >={np_minversion} and <{np_maxversion} is required for this version of \"\n",
      "/Users/shimgahyeon/opt/anaconda3/lib/python3.8/site-packages/scipy/__init__.py:138: UserWarning: A NumPy version >=1.16.5 and <1.23.0 is required for this version of SciPy (detected version 1.23.1)\n",
      "  warnings.warn(f\"A NumPy version >={np_minversion} and <{np_maxversion} is required for this version of \"\n"
     ]
    }
   ],
   "source": [
    "# 최적의 n_components를 대입해서 다시 LDA\n",
    "lda = LatentDirichletAllocation(n_components=8,\n",
    "                                max_iter=20,\n",
    "                                topic_word_prior=0.1,\n",
    "                                doc_topic_prior=1.0,\n",
    "                                learning_method='batch',\n",
    "                                n_jobs=-1,\n",
    "                                random_state=7)\n",
    "\n",
    "review_topics = lda.fit_transform(review_cv)\n",
    "print_top_words(lda, cv.get_feature_names_out(), 10)"
   ]
  },
  {
   "cell_type": "markdown",
   "id": "2f498025",
   "metadata": {},
   "source": [
    "## LDA of Gensim"
   ]
  },
  {
   "cell_type": "code",
   "execution_count": 94,
   "id": "7ad067ec",
   "metadata": {},
   "outputs": [],
   "source": [
    "from nltk.corpus import stopwords\n",
    "from nltk.tokenize import RegexpTokenizer\n",
    "\n",
    "cachedStopWords = stopwords.words(\"english\")\n",
    "\n",
    "RegTok = RegexpTokenizer(\"[\\w']{3,}\")\n",
    "english_stops = set(stopwords.words('english'))\n",
    "\n",
    "def tokenizer(text):\n",
    "    tokens = RegTok.tokenize(text.lower())\n",
    "    # stopwords 제외\n",
    "    words = [word for word in tokens if (word not in english_stops) and len(word) > 2]\n",
    "    return words"
   ]
  },
  {
   "cell_type": "code",
   "execution_count": 98,
   "id": "03a25c56",
   "metadata": {},
   "outputs": [],
   "source": [
    "texts = [tokenizer(news) for news in newsgroups_train.data]"
   ]
  },
  {
   "cell_type": "markdown",
   "id": "d2c5a36e",
   "metadata": {},
   "source": [
    "### Gensim\n",
    "Gensim은 먼저 토큰화 결과로부터 토큰과 gensim 모듈이 내부적으로 사용하는 id를 매칭하는 사전을 생성한다. 이를 위한 클래스는 Dictionary이다. 사전을 생성하면 filter_extremes()에서 sklearn의 max_features에 해당하는 keep_n 인수, min_df에 해당하는 no_below, max_df에 해당하는 no_above를 선택할 수 있다. no_below와 no_above로 출현한 문서 빈도수가 너무 낮거나 높은 단어를 제외하고 빈도수가 높은 순으로 keep_n에서 지정된 수의 단어를 특성으로 선택한다."
   ]
  },
  {
   "cell_type": "code",
   "execution_count": 99,
   "id": "d870ea0c",
   "metadata": {},
   "outputs": [
    {
     "name": "stdout",
     "output_type": "stream",
     "text": [
      "Number of initial unique words in documents: 46466\n",
      "Number of unique words after removing rare and common words: 2000\n"
     ]
    }
   ],
   "source": [
    "from gensim.corpora.dictionary import Dictionary\n",
    "\n",
    "# 토큰화 결과로부터 dictionary 생성\n",
    "dictionary = Dictionary(texts)\n",
    "print('Number of initial unique words in documents:', len(dictionary))\n",
    "\n",
    "# 문서 빈도수가 너무 적거나 높은 단어를 필터링하고 특성을 단어의 빈도 순으로 선택\n",
    "dictionary.filter_extremes(keep_n=2000, no_below=5, no_above=0.5)\n",
    "print(\"Number of unique words after removing rare and common words:\", len(dictionary))"
   ]
  },
  {
   "cell_type": "code",
   "execution_count": 100,
   "id": "5978f3ab",
   "metadata": {},
   "outputs": [
    {
     "data": {
      "text/plain": [
       "<gensim.corpora.dictionary.Dictionary at 0x7f91679ef6d0>"
      ]
     },
     "execution_count": 100,
     "metadata": {},
     "output_type": "execute_result"
    }
   ],
   "source": [
    "dictionary"
   ]
  },
  {
   "cell_type": "markdown",
   "id": "ca9ec7f7",
   "metadata": {},
   "source": [
    "doc2bow()로 토큰화된 결과를 카운트 벡터, 즉 BOW 형태로 변환한다. 이때 gensim 용어에 매우 주의해야 하는데, gensim은 내부 모듈에서 매개변수를 사용할 때 텍스트의 토큰화 결과를 공통적으로 texts로 지칭한다. 그리고 이 토큰화 결과를 doc2bow()로 변환한 결과를 지칭하는 매개변수로 corpus를 사용한다. 일반적으로 texts 혹은 corpurs라고 쓰면 토큰화 이전의 Raw text를 생각하기 쉽지만 gensim에서는 이와 같이 내부적으로 표현한다는 것을 잘 기억해야 한다."
   ]
  },
  {
   "cell_type": "code",
   "execution_count": 101,
   "id": "7240c112",
   "metadata": {},
   "outputs": [
    {
     "name": "stdout",
     "output_type": "stream",
     "text": [
      "Number of unique tokens: 2000\n",
      "Number of documents: 3219\n"
     ]
    }
   ],
   "source": [
    "# 카운트 벡터로 변환\n",
    "corpus = [dictionary.doc2bow(text) for text in texts]\n",
    "print('Number of unique tokens: %d' % len(dictionary))\n",
    "print('Number of documents: %d' % len(corpus))"
   ]
  },
  {
   "cell_type": "markdown",
   "id": "5f593ddb",
   "metadata": {},
   "source": [
    "* corpus  \n",
    "  doc2bow()를 이용해 변환된 카운트 벡터 리스트\n",
    "* num_topics  \n",
    "  토픽의 수 (먼저 10으로 지정)\n",
    "* id2word  \n",
    "  dictionary (앞서 생성한 dictionary 그대로 사용)\n",
    "* passes  \n",
    "  말 뭉치 전체에 대해 학습하는 횟수 지정 (보통 5정도 준다)\n",
    "* alpha  \n",
    "  사전 토픽에 대한 매개변수  \n",
    "  사전 토픽 분포를 직접 주거나 토픽 분포를 결정하는 전략을 지정할 수 있다.  \n",
    "  전략은 symmetric, asymmetric, auto 중에서 선택\n",
    "  * symmetric: 모든 토픽에 대해 고정된 대칭 값 사용\n",
    "  * asymmetric: 토픽들에 대해 비대칭 값 사용\n",
    "  * auto: 비대칭 값을 corpus로부터 학습\n",
    "* eta  \n",
    "  토픽의 사전 단어분포  \n",
    "  직접 다양한 방식으로 분포를 주거나 auto로 전략을 지정할 수 있다."
   ]
  },
  {
   "cell_type": "code",
   "execution_count": null,
   "id": "9e5bf876",
   "metadata": {},
   "outputs": [],
   "source": []
  }
 ],
 "metadata": {
  "kernelspec": {
   "display_name": "Python 3 (ipykernel)",
   "language": "python",
   "name": "python3"
  },
  "language_info": {
   "codemirror_mode": {
    "name": "ipython",
    "version": 3
   },
   "file_extension": ".py",
   "mimetype": "text/x-python",
   "name": "python",
   "nbconvert_exporter": "python",
   "pygments_lexer": "ipython3",
   "version": "3.8.8"
  }
 },
 "nbformat": 4,
 "nbformat_minor": 5
}
