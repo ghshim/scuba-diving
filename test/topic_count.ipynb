{
 "cells": [
  {
   "cell_type": "code",
   "execution_count": 2,
   "id": "99d7946c",
   "metadata": {},
   "outputs": [],
   "source": [
    "import pandas as pd\n",
    "import matplotlib as plt\n",
    "import seaborn as sns"
   ]
  },
  {
   "cell_type": "code",
   "execution_count": 4,
   "id": "3e5ee26f",
   "metadata": {},
   "outputs": [
    {
     "data": {
      "text/html": [
       "<div>\n",
       "<style scoped>\n",
       "    .dataframe tbody tr th:only-of-type {\n",
       "        vertical-align: middle;\n",
       "    }\n",
       "\n",
       "    .dataframe tbody tr th {\n",
       "        vertical-align: top;\n",
       "    }\n",
       "\n",
       "    .dataframe thead th {\n",
       "        text-align: right;\n",
       "    }\n",
       "</style>\n",
       "<table border=\"1\" class=\"dataframe\">\n",
       "  <thead>\n",
       "    <tr style=\"text-align: right;\">\n",
       "      <th></th>\n",
       "      <th>Unnamed: 0</th>\n",
       "      <th>title</th>\n",
       "      <th>abstract</th>\n",
       "      <th>predictedTopic</th>\n",
       "    </tr>\n",
       "  </thead>\n",
       "  <tbody>\n",
       "    <tr>\n",
       "      <th>0</th>\n",
       "      <td>0</td>\n",
       "      <td>Promises and trust in human-robot interaction</td>\n",
       "      <td>Understanding human trust in machine partners ...</td>\n",
       "      <td>4</td>\n",
       "    </tr>\n",
       "    <tr>\n",
       "      <th>1</th>\n",
       "      <td>1</td>\n",
       "      <td>Under Pressure: Examining Social Conformity Wi...</td>\n",
       "      <td>Objective:\\n        \\n      \\n      The author...</td>\n",
       "      <td>4</td>\n",
       "    </tr>\n",
       "    <tr>\n",
       "      <th>2</th>\n",
       "      <td>2</td>\n",
       "      <td>The Validation of a Novel Robot-Assisted Radic...</td>\n",
       "      <td>Objective:\\n        \\n      \\n      To perform...</td>\n",
       "      <td>1</td>\n",
       "    </tr>\n",
       "    <tr>\n",
       "      <th>3</th>\n",
       "      <td>3</td>\n",
       "      <td>Facilitating robotic thymectomy in patients wi...</td>\n",
       "      <td>Robotic procedures in the anterior mediastinum...</td>\n",
       "      <td>3</td>\n",
       "    </tr>\n",
       "    <tr>\n",
       "      <th>4</th>\n",
       "      <td>4</td>\n",
       "      <td>Comparison of manual versus robot-assisted con...</td>\n",
       "      <td>Purpose:\\n        \\n      \\n      Robotic endo...</td>\n",
       "      <td>0</td>\n",
       "    </tr>\n",
       "    <tr>\n",
       "      <th>...</th>\n",
       "      <td>...</td>\n",
       "      <td>...</td>\n",
       "      <td>...</td>\n",
       "      <td>...</td>\n",
       "    </tr>\n",
       "    <tr>\n",
       "      <th>1231</th>\n",
       "      <td>1231</td>\n",
       "      <td>Therapeutic engagement in robot-assisted psych...</td>\n",
       "      <td>Purpose:\\n        \\n      \\n      Therapeutic ...</td>\n",
       "      <td>7</td>\n",
       "    </tr>\n",
       "    <tr>\n",
       "      <th>1232</th>\n",
       "      <td>1232</td>\n",
       "      <td>Robotically assisted thymectomy: a review of t...</td>\n",
       "      <td>The aim of this literature review is to see wh...</td>\n",
       "      <td>1</td>\n",
       "    </tr>\n",
       "    <tr>\n",
       "      <th>1233</th>\n",
       "      <td>1233</td>\n",
       "      <td>Comparison of perioperative outcomes following...</td>\n",
       "      <td>Objective:\\n        \\n      \\n      To compare...</td>\n",
       "      <td>9</td>\n",
       "    </tr>\n",
       "    <tr>\n",
       "      <th>1234</th>\n",
       "      <td>1234</td>\n",
       "      <td>Evaluation of Haptic Feedback on Bimanually Te...</td>\n",
       "      <td>Robotic minimal invasive surgery is gaining ac...</td>\n",
       "      <td>1</td>\n",
       "    </tr>\n",
       "    <tr>\n",
       "      <th>1235</th>\n",
       "      <td>1235</td>\n",
       "      <td>Neural Tuning Functions Underlie Both Generali...</td>\n",
       "      <td>In sports, the role of backswing is considered...</td>\n",
       "      <td>6</td>\n",
       "    </tr>\n",
       "  </tbody>\n",
       "</table>\n",
       "<p>1236 rows × 4 columns</p>\n",
       "</div>"
      ],
      "text/plain": [
       "      Unnamed: 0                                              title  \\\n",
       "0              0      Promises and trust in human-robot interaction   \n",
       "1              1  Under Pressure: Examining Social Conformity Wi...   \n",
       "2              2  The Validation of a Novel Robot-Assisted Radic...   \n",
       "3              3  Facilitating robotic thymectomy in patients wi...   \n",
       "4              4  Comparison of manual versus robot-assisted con...   \n",
       "...          ...                                                ...   \n",
       "1231        1231  Therapeutic engagement in robot-assisted psych...   \n",
       "1232        1232  Robotically assisted thymectomy: a review of t...   \n",
       "1233        1233  Comparison of perioperative outcomes following...   \n",
       "1234        1234  Evaluation of Haptic Feedback on Bimanually Te...   \n",
       "1235        1235  Neural Tuning Functions Underlie Both Generali...   \n",
       "\n",
       "                                               abstract  predictedTopic  \n",
       "0     Understanding human trust in machine partners ...               4  \n",
       "1     Objective:\\n        \\n      \\n      The author...               4  \n",
       "2     Objective:\\n        \\n      \\n      To perform...               1  \n",
       "3     Robotic procedures in the anterior mediastinum...               3  \n",
       "4     Purpose:\\n        \\n      \\n      Robotic endo...               0  \n",
       "...                                                 ...             ...  \n",
       "1231  Purpose:\\n        \\n      \\n      Therapeutic ...               7  \n",
       "1232  The aim of this literature review is to see wh...               1  \n",
       "1233  Objective:\\n        \\n      \\n      To compare...               9  \n",
       "1234  Robotic minimal invasive surgery is gaining ac...               1  \n",
       "1235  In sports, the role of backswing is considered...               6  \n",
       "\n",
       "[1236 rows x 4 columns]"
      ]
     },
     "execution_count": 4,
     "metadata": {},
     "output_type": "execute_result"
    }
   ],
   "source": [
    "df = pd.read_csv('../data/topic2/topic2_predicted.csv')\n",
    "df"
   ]
  },
  {
   "cell_type": "code",
   "execution_count": 10,
   "id": "753e9183",
   "metadata": {},
   "outputs": [],
   "source": [
    "total = len(df)\n",
    "count_papers = df['predictedTopic'].value_counts().sort_index()"
   ]
  },
  {
   "cell_type": "code",
   "execution_count": 35,
   "id": "f363595f",
   "metadata": {},
   "outputs": [],
   "source": [
    "r = np.array(count_papers.index)"
   ]
  },
  {
   "cell_type": "code",
   "execution_count": 37,
   "id": "5555c913",
   "metadata": {},
   "outputs": [
    {
     "data": {
      "text/plain": [
       "array([ 1,  2,  3,  4,  5,  6,  7,  8,  9, 10])"
      ]
     },
     "execution_count": 37,
     "metadata": {},
     "output_type": "execute_result"
    }
   ],
   "source": [
    "r + 1"
   ]
  },
  {
   "cell_type": "code",
   "execution_count": 36,
   "id": "91d5bf94",
   "metadata": {},
   "outputs": [
    {
     "data": {
      "text/html": [
       "<div>\n",
       "<style scoped>\n",
       "    .dataframe tbody tr th:only-of-type {\n",
       "        vertical-align: middle;\n",
       "    }\n",
       "\n",
       "    .dataframe tbody tr th {\n",
       "        vertical-align: top;\n",
       "    }\n",
       "\n",
       "    .dataframe thead th {\n",
       "        text-align: right;\n",
       "    }\n",
       "</style>\n",
       "<table border=\"1\" class=\"dataframe\">\n",
       "  <thead>\n",
       "    <tr style=\"text-align: right;\">\n",
       "      <th></th>\n",
       "      <th>index</th>\n",
       "    </tr>\n",
       "  </thead>\n",
       "  <tbody>\n",
       "    <tr>\n",
       "      <th>0</th>\n",
       "      <td>0</td>\n",
       "    </tr>\n",
       "    <tr>\n",
       "      <th>1</th>\n",
       "      <td>1</td>\n",
       "    </tr>\n",
       "    <tr>\n",
       "      <th>2</th>\n",
       "      <td>2</td>\n",
       "    </tr>\n",
       "    <tr>\n",
       "      <th>3</th>\n",
       "      <td>3</td>\n",
       "    </tr>\n",
       "    <tr>\n",
       "      <th>4</th>\n",
       "      <td>4</td>\n",
       "    </tr>\n",
       "    <tr>\n",
       "      <th>5</th>\n",
       "      <td>5</td>\n",
       "    </tr>\n",
       "    <tr>\n",
       "      <th>6</th>\n",
       "      <td>6</td>\n",
       "    </tr>\n",
       "    <tr>\n",
       "      <th>7</th>\n",
       "      <td>7</td>\n",
       "    </tr>\n",
       "    <tr>\n",
       "      <th>8</th>\n",
       "      <td>8</td>\n",
       "    </tr>\n",
       "    <tr>\n",
       "      <th>9</th>\n",
       "      <td>9</td>\n",
       "    </tr>\n",
       "  </tbody>\n",
       "</table>\n",
       "</div>"
      ],
      "text/plain": [
       "   index\n",
       "0      0\n",
       "1      1\n",
       "2      2\n",
       "3      3\n",
       "4      4\n",
       "5      5\n",
       "6      6\n",
       "7      7\n",
       "8      8\n",
       "9      9"
      ]
     },
     "execution_count": 36,
     "metadata": {},
     "output_type": "execute_result"
    }
   ],
   "source": [
    "temp = pd.DataFrame()\n",
    "temp['index'] = r\n",
    "temp "
   ]
  },
  {
   "cell_type": "code",
   "execution_count": 11,
   "id": "b8063acf",
   "metadata": {},
   "outputs": [],
   "source": [
    "count_papers = count_papers\n",
    "pct = count_papers / total"
   ]
  },
  {
   "cell_type": "code",
   "execution_count": 12,
   "id": "15f59488",
   "metadata": {},
   "outputs": [
    {
     "data": {
      "text/plain": [
       "0    288\n",
       "1    208\n",
       "2    152\n",
       "3    175\n",
       "4    186\n",
       "5     51\n",
       "6     49\n",
       "7     28\n",
       "8     29\n",
       "9     70\n",
       "Name: predictedTopic, dtype: int64"
      ]
     },
     "execution_count": 12,
     "metadata": {},
     "output_type": "execute_result"
    }
   ],
   "source": [
    "count_papers"
   ]
  },
  {
   "cell_type": "code",
   "execution_count": 13,
   "id": "3cf1992e",
   "metadata": {},
   "outputs": [
    {
     "data": {
      "text/plain": [
       "0    0.233010\n",
       "1    0.168285\n",
       "2    0.122977\n",
       "3    0.141586\n",
       "4    0.150485\n",
       "5    0.041262\n",
       "6    0.039644\n",
       "7    0.022654\n",
       "8    0.023463\n",
       "9    0.056634\n",
       "Name: predictedTopic, dtype: float64"
      ]
     },
     "execution_count": 13,
     "metadata": {},
     "output_type": "execute_result"
    }
   ],
   "source": [
    "pct"
   ]
  },
  {
   "cell_type": "code",
   "execution_count": 16,
   "id": "b572b84b",
   "metadata": {},
   "outputs": [],
   "source": [
    "result = pd.DataFrame()\n",
    "result['topic'] = [i for i in range(0, 10)]\n",
    "result['count'] = count_papers\n",
    "result['percentage'] = pct"
   ]
  },
  {
   "cell_type": "code",
   "execution_count": 17,
   "id": "d236d3c2",
   "metadata": {},
   "outputs": [
    {
     "data": {
      "text/html": [
       "<div>\n",
       "<style scoped>\n",
       "    .dataframe tbody tr th:only-of-type {\n",
       "        vertical-align: middle;\n",
       "    }\n",
       "\n",
       "    .dataframe tbody tr th {\n",
       "        vertical-align: top;\n",
       "    }\n",
       "\n",
       "    .dataframe thead th {\n",
       "        text-align: right;\n",
       "    }\n",
       "</style>\n",
       "<table border=\"1\" class=\"dataframe\">\n",
       "  <thead>\n",
       "    <tr style=\"text-align: right;\">\n",
       "      <th></th>\n",
       "      <th>topic</th>\n",
       "      <th>count</th>\n",
       "      <th>percentage</th>\n",
       "    </tr>\n",
       "  </thead>\n",
       "  <tbody>\n",
       "    <tr>\n",
       "      <th>0</th>\n",
       "      <td>0</td>\n",
       "      <td>288</td>\n",
       "      <td>0.233010</td>\n",
       "    </tr>\n",
       "    <tr>\n",
       "      <th>1</th>\n",
       "      <td>1</td>\n",
       "      <td>208</td>\n",
       "      <td>0.168285</td>\n",
       "    </tr>\n",
       "    <tr>\n",
       "      <th>2</th>\n",
       "      <td>2</td>\n",
       "      <td>152</td>\n",
       "      <td>0.122977</td>\n",
       "    </tr>\n",
       "    <tr>\n",
       "      <th>3</th>\n",
       "      <td>3</td>\n",
       "      <td>175</td>\n",
       "      <td>0.141586</td>\n",
       "    </tr>\n",
       "    <tr>\n",
       "      <th>4</th>\n",
       "      <td>4</td>\n",
       "      <td>186</td>\n",
       "      <td>0.150485</td>\n",
       "    </tr>\n",
       "    <tr>\n",
       "      <th>5</th>\n",
       "      <td>5</td>\n",
       "      <td>51</td>\n",
       "      <td>0.041262</td>\n",
       "    </tr>\n",
       "    <tr>\n",
       "      <th>6</th>\n",
       "      <td>6</td>\n",
       "      <td>49</td>\n",
       "      <td>0.039644</td>\n",
       "    </tr>\n",
       "    <tr>\n",
       "      <th>7</th>\n",
       "      <td>7</td>\n",
       "      <td>28</td>\n",
       "      <td>0.022654</td>\n",
       "    </tr>\n",
       "    <tr>\n",
       "      <th>8</th>\n",
       "      <td>8</td>\n",
       "      <td>29</td>\n",
       "      <td>0.023463</td>\n",
       "    </tr>\n",
       "    <tr>\n",
       "      <th>9</th>\n",
       "      <td>9</td>\n",
       "      <td>70</td>\n",
       "      <td>0.056634</td>\n",
       "    </tr>\n",
       "  </tbody>\n",
       "</table>\n",
       "</div>"
      ],
      "text/plain": [
       "   topic  count  percentage\n",
       "0      0    288    0.233010\n",
       "1      1    208    0.168285\n",
       "2      2    152    0.122977\n",
       "3      3    175    0.141586\n",
       "4      4    186    0.150485\n",
       "5      5     51    0.041262\n",
       "6      6     49    0.039644\n",
       "7      7     28    0.022654\n",
       "8      8     29    0.023463\n",
       "9      9     70    0.056634"
      ]
     },
     "execution_count": 17,
     "metadata": {},
     "output_type": "execute_result"
    }
   ],
   "source": [
    "result"
   ]
  },
  {
   "cell_type": "code",
   "execution_count": 18,
   "id": "ad09f467",
   "metadata": {},
   "outputs": [
    {
     "data": {
      "image/png": "[encoded data removed]",
      "text/plain": [
       "<Figure size 640x480 with 1 Axes>"
      ]
     },
     "metadata": {},
     "output_type": "display_data"
    }
   ],
   "source": [
    "fig = sns.barplot(x=result['topic'], y=result['count'], color='tab:blue')\n",
    "fig.set(xlabel='Topic', ylabel='Count')\n",
    "fig = fig.get_figure()"
   ]
  },
  {
   "cell_type": "code",
   "execution_count": 26,
   "id": "af2efc88",
   "metadata": {},
   "outputs": [],
   "source": [
    "import numpy as np\n",
    "years = list(set([1, 2, 0, 3, 3, None, None]))"
   ]
  },
  {
   "cell_type": "code",
   "execution_count": 27,
   "id": "abb2afe8",
   "metadata": {},
   "outputs": [
    {
     "data": {
      "text/plain": [
       "[0, 1, 2, 3, None]"
      ]
     },
     "execution_count": 27,
     "metadata": {},
     "output_type": "execute_result"
    }
   ],
   "source": [
    "years"
   ]
  }
 ],
 "metadata": {
  "kernelspec": {
   "display_name": "Python 3 (ipykernel)",
   "language": "python",
   "name": "python3"
  },
  "language_info": {
   "codemirror_mode": {
    "name": "ipython",
    "version": 3
   },
   "file_extension": ".py",
   "mimetype": "text/x-python",
   "name": "python",
   "nbconvert_exporter": "python",
   "pygments_lexer": "ipython3",
   "version": "3.8.8"
  }
 },
 "nbformat": 4,
 "nbformat_minor": 5
}
